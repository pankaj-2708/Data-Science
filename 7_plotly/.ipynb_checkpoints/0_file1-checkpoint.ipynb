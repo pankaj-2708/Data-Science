{
 "cells": [
  {
   "cell_type": "code",
   "execution_count": 1,
   "id": "2b1eabfe-0adc-46fd-814c-c2b6e9b170ba",
   "metadata": {},
   "outputs": [],
   "source": [
    "import pandas as pd\n",
    "import numpy as np\n",
    "import plotly.graph_objects as go\n",
    "import plotly.express as px"
   ]
  },
  {
   "cell_type": "code",
   "execution_count": 2,
   "id": "410a8284-48cb-4f98-9469-5770315891f8",
   "metadata": {},
   "outputs": [],
   "source": [
    "tips=px.data.tips()\n",
    "iris=px.data.iris()\n",
    "gap=px.data.gapminder()"
   ]
  },
  {
   "cell_type": "code",
   "execution_count": 3,
   "id": "58c3d0f6-0489-41b8-a619-05245987d44c",
   "metadata": {},
   "outputs": [
    {
     "data": {
      "text/html": [
       "<div>\n",
       "<style scoped>\n",
       "    .dataframe tbody tr th:only-of-type {\n",
       "        vertical-align: middle;\n",
       "    }\n",
       "\n",
       "    .dataframe tbody tr th {\n",
       "        vertical-align: top;\n",
       "    }\n",
       "\n",
       "    .dataframe thead th {\n",
       "        text-align: right;\n",
       "    }\n",
       "</style>\n",
       "<table border=\"1\" class=\"dataframe\">\n",
       "  <thead>\n",
       "    <tr style=\"text-align: right;\">\n",
       "      <th></th>\n",
       "      <th>country</th>\n",
       "      <th>continent</th>\n",
       "      <th>year</th>\n",
       "      <th>lifeExp</th>\n",
       "      <th>pop</th>\n",
       "      <th>gdpPercap</th>\n",
       "      <th>iso_alpha</th>\n",
       "      <th>iso_num</th>\n",
       "    </tr>\n",
       "  </thead>\n",
       "  <tbody>\n",
       "    <tr>\n",
       "      <th>0</th>\n",
       "      <td>Afghanistan</td>\n",
       "      <td>Asia</td>\n",
       "      <td>1952</td>\n",
       "      <td>28.801</td>\n",
       "      <td>8425333</td>\n",
       "      <td>779.445314</td>\n",
       "      <td>AFG</td>\n",
       "      <td>4</td>\n",
       "    </tr>\n",
       "    <tr>\n",
       "      <th>1</th>\n",
       "      <td>Afghanistan</td>\n",
       "      <td>Asia</td>\n",
       "      <td>1957</td>\n",
       "      <td>30.332</td>\n",
       "      <td>9240934</td>\n",
       "      <td>820.853030</td>\n",
       "      <td>AFG</td>\n",
       "      <td>4</td>\n",
       "    </tr>\n",
       "    <tr>\n",
       "      <th>2</th>\n",
       "      <td>Afghanistan</td>\n",
       "      <td>Asia</td>\n",
       "      <td>1962</td>\n",
       "      <td>31.997</td>\n",
       "      <td>10267083</td>\n",
       "      <td>853.100710</td>\n",
       "      <td>AFG</td>\n",
       "      <td>4</td>\n",
       "    </tr>\n",
       "    <tr>\n",
       "      <th>3</th>\n",
       "      <td>Afghanistan</td>\n",
       "      <td>Asia</td>\n",
       "      <td>1967</td>\n",
       "      <td>34.020</td>\n",
       "      <td>11537966</td>\n",
       "      <td>836.197138</td>\n",
       "      <td>AFG</td>\n",
       "      <td>4</td>\n",
       "    </tr>\n",
       "    <tr>\n",
       "      <th>4</th>\n",
       "      <td>Afghanistan</td>\n",
       "      <td>Asia</td>\n",
       "      <td>1972</td>\n",
       "      <td>36.088</td>\n",
       "      <td>13079460</td>\n",
       "      <td>739.981106</td>\n",
       "      <td>AFG</td>\n",
       "      <td>4</td>\n",
       "    </tr>\n",
       "  </tbody>\n",
       "</table>\n",
       "</div>"
      ],
      "text/plain": [
       "       country continent  year  lifeExp       pop   gdpPercap iso_alpha  \\\n",
       "0  Afghanistan      Asia  1952   28.801   8425333  779.445314       AFG   \n",
       "1  Afghanistan      Asia  1957   30.332   9240934  820.853030       AFG   \n",
       "2  Afghanistan      Asia  1962   31.997  10267083  853.100710       AFG   \n",
       "3  Afghanistan      Asia  1967   34.020  11537966  836.197138       AFG   \n",
       "4  Afghanistan      Asia  1972   36.088  13079460  739.981106       AFG   \n",
       "\n",
       "   iso_num  \n",
       "0        4  \n",
       "1        4  \n",
       "2        4  \n",
       "3        4  \n",
       "4        4  "
      ]
     },
     "execution_count": 3,
     "metadata": {},
     "output_type": "execute_result"
    }
   ],
   "source": [
    "gap.head()"
   ]
  },
  {
   "cell_type": "markdown",
   "id": "c5d8153a-5303-426d-8264-72e60768a4d0",
   "metadata": {},
   "source": [
    "# scatter plot using plotly go"
   ]
  },
  {
   "cell_type": "code",
   "execution_count": 8,
   "id": "6c31cf61-059e-4c0b-b787-e42398c2a94c",
   "metadata": {},
   "outputs": [],
   "source": [
    "temp_df=gap[gap['year']==2007]"
   ]
  },
  {
   "cell_type": "code",
   "execution_count": 15,
   "id": "d68ee329-381d-46b5-a83a-d619bcc417f6",
   "metadata": {},
   "outputs": [
    {
     "data": {
      "application/vnd.plotly.v1+json": {
       "config": {
        "plotlyServerURL": "https://plot.ly"
       },
       "data": [
        {
         "mode": "markers",
         "type": "scatter",
         "x": {
          "_inputArray": {
           "0": 43.828,
           "1": 76.423,
           "10": 56.728,
           "100": 71.421,
           "101": 71.688,
           "102": 75.563,
           "103": 78.098,
           "104": 78.74600000000002,
           "105": 76.442,
           "106": 72.476,
           "107": 46.242,
           "108": 65.528,
           "109": 72.777,
           "11": 65.554,
           "110": 63.062,
           "111": 74.002,
           "112": 42.56800000000001,
           "113": 79.972,
           "114": 74.663,
           "115": 77.926,
           "116": 48.159,
           "117": 49.339,
           "118": 80.941,
           "119": 72.396,
           "12": 74.852,
           "120": 58.556,
           "121": 39.613,
           "122": 80.884,
           "123": 81.70100000000002,
           "124": 74.143,
           "125": 78.4,
           "126": 52.517,
           "127": 70.616,
           "128": 58.42,
           "129": 69.819,
           "13": 50.728,
           "130": 73.923,
           "131": 71.777,
           "132": 51.542,
           "133": 79.425,
           "134": 78.242,
           "135": 76.384,
           "136": 73.747,
           "137": 74.249,
           "138": 73.422,
           "139": 62.698,
           "14": 72.39,
           "140": 42.38399999999999,
           "141": 43.487,
           "15": 73.005,
           "16": 52.295,
           "17": 49.58,
           "18": 59.723,
           "19": 50.43,
           "2": 72.301,
           "20": 80.653,
           "21": 44.74100000000001,
           "22": 50.651,
           "23": 78.553,
           "24": 72.961,
           "25": 72.889,
           "26": 65.152,
           "27": 46.462,
           "28": 55.322,
           "29": 78.782,
           "3": 42.731,
           "30": 48.328,
           "31": 75.748,
           "32": 78.273,
           "33": 76.486,
           "34": 78.332,
           "35": 54.791,
           "36": 72.235,
           "37": 74.994,
           "38": 71.33800000000002,
           "39": 71.878,
           "4": 75.32,
           "40": 51.57899999999999,
           "41": 58.04,
           "42": 52.947,
           "43": 79.313,
           "44": 80.657,
           "45": 56.735,
           "46": 59.448,
           "47": 79.406,
           "48": 60.022,
           "49": 79.483,
           "5": 81.235,
           "50": 70.259,
           "51": 56.007,
           "52": 46.38800000000001,
           "53": 60.916,
           "54": 70.19800000000001,
           "55": 82.208,
           "56": 73.33800000000002,
           "57": 81.757,
           "58": 64.69800000000001,
           "59": 70.65,
           "6": 79.829,
           "60": 70.964,
           "61": 59.545,
           "62": 78.885,
           "63": 80.745,
           "64": 80.546,
           "65": 72.567,
           "66": 82.603,
           "67": 72.535,
           "68": 54.11,
           "69": 67.297,
           "7": 75.635,
           "70": 78.623,
           "71": 77.58800000000002,
           "72": 71.993,
           "73": 42.592,
           "74": 45.678,
           "75": 73.952,
           "76": 59.44300000000001,
           "77": 48.303,
           "78": 74.241,
           "79": 54.467,
           "8": 64.062,
           "80": 64.164,
           "81": 72.801,
           "82": 76.195,
           "83": 66.803,
           "84": 74.543,
           "85": 71.164,
           "86": 42.082,
           "87": 62.069,
           "88": 52.90600000000001,
           "89": 63.785,
           "9": 79.441,
           "90": 79.762,
           "91": 80.204,
           "92": 72.899,
           "93": 56.867,
           "94": 46.859,
           "95": 80.196,
           "96": 75.64,
           "97": 65.483,
           "98": 75.53699999999998,
           "99": 71.752,
           "bdata": "RIts5/vpRUBQjZduEhtTQCUGgZVDE1JAIbByaJFdRUAUrkfhetRSQNejcD0KT1RAkxgEVg71U0BxPQrXo+hSQIcW2c73A1BATmIQWDncU0B3vp8aL11MQPp+arx0Y1BASgwCK4e2UkB3vp8aL11JQClcj8L1GFJAuB6F61FAUkD2KFyPwiVKQArXo3A9ykhABoGVQ4vcTUDXo3A9CjdJQG8Sg8DKKVRAAyuHFtleRkAX2c73U1NJQAisHFpko1NAL90kBoE9UkA3iUFg5ThSQH0/NV66SVBAQmDl0CI7R0Dwp8ZLN6lLQDVeukkMslNARIts5/spSEAdWmQ73+9SQLbz/dR4kVNAyXa+nxofU0Boke18P5VTQGiR7Xw/ZUtA16NwPQoPUkBWDi2ynb9SQBSDwMqh1VFA1XjpJjH4UUAmMQisHMpJQIXrUbgeBU1A8KfGSzd5SkB56SYxCNRTQDVeukkMKlRArkfhehReTEDTTWIQWLlNQESLbOf72VNAiUFg5dACTkD0/dR46d5TQH9qvHSTkFFAN4lBYOUATECNbOf7qTFHQGiR7Xw/dU5A6iYxCKyMUUBaZDvfT41UQBSDwMqhVVJAnMQgsHJwVEDqJjEIrCxQQJqZmZmZqVFABFYOLbK9UUD2KFyPwsVNQHE9CtejuFNASOF6FK4vVEBt5/up8SJUQD81XrpJJFJAO99PjZemVEAK16NwPSJSQK5H4XoUDktAXrpJDALTUEAdWmQ736dTQBSDwMqhZVNAZDvfT43/UUCyne+nxktFQBBYObTI1kZAsHJoke18UkBkEFg5tLhNQBBYObTIJkhAgZVDi2yPUkCyne+nxjtLQNEi2/l+ClBAJQaBlUMzUkAUrkfhegxTQAisHFpks1BAmG4Sg8CiUkDRItv5fspRQNEi2/l+CkVARrbz/dQIT0CJFtnO93NKQBSuR+F65E9AVOOlm8TwU0CTGARWDg1UQKjGSzeJOVJA5dAi2/luTEDLoUW2821HQAaBlUOLDFRAKVyPwvXoUkD0/dR46V5QQOx8PzVe4lJA46WbxCDwUUBt5/up8dpRQHnpJjEI7FFAeekmMQjkUkCDwMqhRYZTQDu0yHa+r1NAPzVeukkcU0BYObTIdh5SQOXQItv5HkdAbxKDwMphUEB9PzVeujFSQA4tsp3vh09A46WbxCCAUkBkEFg5tEhFQJHtfD81/lNA30+Nl26qUkAlBoGVQ3tTQDEIrBxaFEhACKwcWmSrSEBOYhBYOTxUQNNNYhBYGVJAukkMAitHTUBYObTIds5DQH9qvHSTOFRAwJ8aL91sVED+1HjpJolSQJqZmZmZmVNAGQRWDi1CSkCBlUOLbKdRQPYoXI/CNU1AI9v5fmp0UUBQjZduEntSQH0/NV668VFATDeJQWDFSUAzMzMzM9tTQHNoke18j1NAf2q8dJMYU0ArhxbZzm9SQA4tsp3vj1JAXrpJDAJbUkDTTWIQWFlPQP3UeOkmMUVAdZMYBFa+RUA=",
           "dtype": "f8",
           "shape": "142"
          },
          "bdata": "RIts5/vpRUBQjZduEhtTQCUGgZVDE1JAIbByaJFdRUAUrkfhetRSQNejcD0KT1RAkxgEVg71U0BxPQrXo+hSQIcW2c73A1BATmIQWDncU0B3vp8aL11MQPp+arx0Y1BASgwCK4e2UkB3vp8aL11JQClcj8L1GFJAuB6F61FAUkD2KFyPwiVKQArXo3A9ykhABoGVQ4vcTUDXo3A9CjdJQG8Sg8DKKVRAAyuHFtleRkAX2c73U1NJQAisHFpko1NAL90kBoE9UkA3iUFg5ThSQH0/NV66SVBAQmDl0CI7R0Dwp8ZLN6lLQDVeukkMslNARIts5/spSEAdWmQ73+9SQLbz/dR4kVNAyXa+nxofU0Boke18P5VTQGiR7Xw/ZUtA16NwPQoPUkBWDi2ynb9SQBSDwMqh1VFA1XjpJjH4UUAmMQisHMpJQIXrUbgeBU1A8KfGSzd5SkB56SYxCNRTQDVeukkMKlRArkfhehReTEDTTWIQWLlNQESLbOf72VNAiUFg5dACTkD0/dR46d5TQH9qvHSTkFFAN4lBYOUATECNbOf7qTFHQGiR7Xw/dU5A6iYxCKyMUUBaZDvfT41UQBSDwMqhVVJAnMQgsHJwVEDqJjEIrCxQQJqZmZmZqVFABFYOLbK9UUD2KFyPwsVNQHE9CtejuFNASOF6FK4vVEBt5/up8SJUQD81XrpJJFJAO99PjZemVEAK16NwPSJSQK5H4XoUDktAXrpJDALTUEAdWmQ736dTQBSDwMqhZVNAZDvfT43/UUCyne+nxktFQBBYObTI1kZAsHJoke18UkBkEFg5tLhNQBBYObTIJkhAgZVDi2yPUkCyne+nxjtLQNEi2/l+ClBAJQaBlUMzUkAUrkfhegxTQAisHFpks1BAmG4Sg8CiUkDRItv5fspRQNEi2/l+CkVARrbz/dQIT0CJFtnO93NKQBSuR+F65E9AVOOlm8TwU0CTGARWDg1UQKjGSzeJOVJA5dAi2/luTEDLoUW2821HQAaBlUOLDFRAKVyPwvXoUkD0/dR46V5QQOx8PzVe4lJA46WbxCDwUUBt5/up8dpRQHnpJjEI7FFAeekmMQjkUkCDwMqhRYZTQDu0yHa+r1NAPzVeukkcU0BYObTIdh5SQOXQItv5HkdAbxKDwMphUEB9PzVeujFSQA4tsp3vh09A46WbxCCAUkBkEFg5tEhFQJHtfD81/lNA30+Nl26qUkAlBoGVQ3tTQDEIrBxaFEhACKwcWmSrSEBOYhBYOTxUQNNNYhBYGVJAukkMAitHTUBYObTIds5DQH9qvHSTOFRAwJ8aL91sVED+1HjpJolSQJqZmZmZmVNAGQRWDi1CSkCBlUOLbKdRQPYoXI/CNU1AI9v5fmp0UUBQjZduEntSQH0/NV668VFATDeJQWDFSUAzMzMzM9tTQHNoke18j1NAf2q8dJMYU0ArhxbZzm9SQA4tsp3vj1JAXrpJDAJbUkDTTWIQWFlPQP3UeOkmMUVAdZMYBFa+RUA=",
          "dtype": "f8"
         },
         "y": {
          "_inputArray": {
           "0": 974.5803384,
           "1": 5937.029525999998,
           "10": 1441.284873,
           "100": 7408.905561,
           "101": 3190.481016,
           "102": 15389.924680000002,
           "103": 20509.64777,
           "104": 19328.70901,
           "105": 7670.122558,
           "106": 10808.47561,
           "107": 863.0884639000002,
           "108": 1598.435089,
           "109": 21654.83194,
           "11": 3822.137084,
           "110": 1712.472136,
           "111": 9786.534714,
           "112": 862.5407561000002,
           "113": 47143.17964,
           "114": 18678.31435,
           "115": 25768.25759,
           "116": 926.1410683,
           "117": 9269.657808,
           "118": 28821.0637,
           "119": 3970.095407,
           "12": 7446.298803,
           "120": 2602.394995,
           "121": 4513.480643,
           "122": 33859.74835,
           "123": 37506.41907,
           "124": 4184.548089,
           "125": 28718.27684,
           "126": 1107.482182,
           "127": 7458.396326999998,
           "128": 882.9699437999999,
           "129": 18008.50924,
           "13": 12569.85177,
           "130": 7092.923025,
           "131": 8458.276384,
           "132": 1056.380121,
           "133": 33203.26128,
           "134": 42951.65309,
           "135": 10611.46299,
           "136": 11415.80569,
           "137": 2441.576404,
           "138": 3025.349798,
           "139": 2280.769906,
           "14": 9065.800825,
           "140": 1271.211593,
           "141": 469.70929810000007,
           "15": 10680.79282,
           "16": 1217.032994,
           "17": 430.0706916,
           "18": 1713.778686,
           "19": 2042.09524,
           "2": 6223.367465,
           "20": 36319.23501,
           "21": 706.016537,
           "22": 1704.063724,
           "23": 13171.63885,
           "24": 4959.114854,
           "25": 7006.580419,
           "26": 986.1478792,
           "27": 277.5518587,
           "28": 3632.557798,
           "29": 9645.06142,
           "3": 4797.231267,
           "30": 1544.750112,
           "31": 14619.222719999998,
           "32": 8948.102923,
           "33": 22833.30851,
           "34": 35278.41874,
           "35": 2082.4815670000007,
           "36": 6025.3747520000015,
           "37": 6873.262326000001,
           "38": 5581.180998,
           "39": 5728.353514,
           "4": 12779.37964,
           "40": 12154.08975,
           "41": 641.3695236000002,
           "42": 690.8055759,
           "43": 33207.0844,
           "44": 30470.0167,
           "45": 13206.48452,
           "46": 752.7497265,
           "47": 32170.37442,
           "48": 1327.60891,
           "49": 27538.41188,
           "5": 34435.367439999995,
           "50": 5186.050003,
           "51": 942.6542111,
           "52": 579.2317429999998,
           "53": 1201.637154,
           "54": 3548.3308460000007,
           "55": 39724.97867,
           "56": 18008.94444,
           "57": 36180.78919,
           "58": 2452.210407,
           "59": 3540.651564,
           "6": 36126.4927,
           "60": 11605.71449,
           "61": 4471.061906,
           "62": 40675.99635,
           "63": 25523.2771,
           "64": 28569.7197,
           "65": 7320.8802620000015,
           "66": 31656.06806,
           "67": 4519.461171,
           "68": 1463.249282,
           "69": 1593.06548,
           "7": 29796.04834,
           "70": 23348.139730000006,
           "71": 47306.98978,
           "72": 10461.05868,
           "73": 1569.331442,
           "74": 414.5073415,
           "75": 12057.49928,
           "76": 1044.770126,
           "77": 759.3499101,
           "78": 12451.6558,
           "79": 1042.581557,
           "8": 1391.253792,
           "80": 1803.151496,
           "81": 10956.99112,
           "82": 11977.57496,
           "83": 3095.7722710000007,
           "84": 9253.896111,
           "85": 3820.17523,
           "86": 823.6856205,
           "87": 944,
           "88": 4811.060429,
           "89": 1091.359778,
           "9": 33692.60508,
           "90": 36797.93332,
           "91": 25185.00911,
           "92": 2749.320965,
           "93": 619.6768923999998,
           "94": 2013.977305,
           "95": 49357.19017,
           "96": 22316.19287,
           "97": 2605.94758,
           "98": 9809.185636,
           "99": 4172.838464,
           "bdata": "54R1iKR0jkBgFASPBzG3QG2tLxJeT7hApWlQNDu9skAgJAuYsPXIQOeHEcJr0OBAWMoyxM+j4UDGpwAYAxndQPLPDOIDvZVAb7vQXJNz4EAOar+1I4WWQJzB3y9G3K1A8nhafkwWvUDboswG7YzIQGkAb4HmtMFAzzEge2XcxEDb2y3JIQSTQKHhg40h4XpAat/cXx3HmkAWNZiGYeifQAexM4Xnu+FAZJEm3iEQhkDiP91AQaCaQIY41sXRuclA0V0SZx1fs0D67laWlF67QBI+Stsu0Y5ANsjJadRYcUCMD7OXHWGsQKlNnNyH1sJAWTFcHQAjmEAUxhaCnI3MQIGzlCwNesFAH7qgvlNM1kCxbVFmzTnhQKwn84/2RKBAHkC/71+Jt0Dl9ssnQ9m6QKSK4lUuzbVArrzkf1pgtkBoke18C73HQM8Iysj0CoRAkQfH0XGWhUD5oGez4jbgQHbgnBGBwd1AIVnABD7LyUCOc5tw/4WHQL5Nf/aXat9A1GAahm++lEB47j1cmuTaQLQh/8wMQrRAcXkH0zt1jUCc8BKc2hmCQBAiGXKMxpJACJylZKm4q0Byv0NRn2XjQEJ4tHE8ltFAC2MLQZmq4UCzX3e6ayijQIDuy5lNqatAqYdodNuqxkBtVRLZD3exQCxlGeJ/3ONAbqMBvNHs2EC8lpAPbubbQOu12VjhmLxAi1QYWwTq3kDdek0PdqexQO3Vx0P/3JZAK2owDUPkmEATGVbxCM3WQEgbR6xfGedAd4TTgoduxEAVGohlU4WYQHXmHhIe6HlAxjNo6L+Mx0Ay/+ibFFOQQFKgqp3MuodAXCBB8dNRyEAKn62DU0qQQOZ1xCGbLJxANSkF3X5mxUBBDkqYyWTHQE7BGmeLL6hAS+fDs/ISwkCOHr+3WditQL3HmSZ8vYlAAAAAAACAjUC7YkZ4D8uyQEjfpGlwDZFAlufB3b334UAEHEKVQJjYQFJEhlWkeqVASAeQRmpdg0DeVKTC6HefQFZl3xWmGehAmGn7VwzL1UCwrDQp5VukQHui68KXKMNA4KKTpdZMsECIf9jS5/C8QLWpukf27KhAowvqW/YOzkBVTRB1aQfUQKJ6a2At4NJA3Qn2Xx/2vUDT2cngPBzFQAWrjyy1+IpAZof4h735mEAPRYE+tSXVQA+dnnfjwZpAWyOCcUQdw0DoJO93U/SKQKJinL/lBOdAYHZPHpQ90kByxFp8ECrZQAW4augg8YxAhnMNM9QawkAwKqkTRCXcQJ6xL9kwBK9AK97IPMpUpEANbmsLe6GxQP+ye/J3iOBAGH0FaU1Q4kBMio9PjFiwQI4ev7eRC9xA4UIewe1NkUCDr691ZSK9QKkf5XHCl4tAdF5jlyCW0UBkzF1L7LS7QJIIjWAjhcBAF35wPoWBkEDj32dcaDbgQOv/HOb0+ORAMJ5BQ7u5xEBblNkg50vGQJHSbB4nE6NAajS5GLOip0D9hR4xitGhQEDc1avY3JNA2On2SFlbfUA=",
           "dtype": "f8",
           "shape": "142"
          },
          "bdata": "54R1iKR0jkBgFASPBzG3QG2tLxJeT7hApWlQNDu9skAgJAuYsPXIQOeHEcJr0OBAWMoyxM+j4UDGpwAYAxndQPLPDOIDvZVAb7vQXJNz4EAOar+1I4WWQJzB3y9G3K1A8nhafkwWvUDboswG7YzIQGkAb4HmtMFAzzEge2XcxEDb2y3JIQSTQKHhg40h4XpAat/cXx3HmkAWNZiGYeifQAexM4Xnu+FAZJEm3iEQhkDiP91AQaCaQIY41sXRuclA0V0SZx1fs0D67laWlF67QBI+Stsu0Y5ANsjJadRYcUCMD7OXHWGsQKlNnNyH1sJAWTFcHQAjmEAUxhaCnI3MQIGzlCwNesFAH7qgvlNM1kCxbVFmzTnhQKwn84/2RKBAHkC/71+Jt0Dl9ssnQ9m6QKSK4lUuzbVArrzkf1pgtkBoke18C73HQM8Iysj0CoRAkQfH0XGWhUD5oGez4jbgQHbgnBGBwd1AIVnABD7LyUCOc5tw/4WHQL5Nf/aXat9A1GAahm++lEB47j1cmuTaQLQh/8wMQrRAcXkH0zt1jUCc8BKc2hmCQBAiGXKMxpJACJylZKm4q0Byv0NRn2XjQEJ4tHE8ltFAC2MLQZmq4UCzX3e6ayijQIDuy5lNqatAqYdodNuqxkBtVRLZD3exQCxlGeJ/3ONAbqMBvNHs2EC8lpAPbubbQOu12VjhmLxAi1QYWwTq3kDdek0PdqexQO3Vx0P/3JZAK2owDUPkmEATGVbxCM3WQEgbR6xfGedAd4TTgoduxEAVGohlU4WYQHXmHhIe6HlAxjNo6L+Mx0Ay/+ibFFOQQFKgqp3MuodAXCBB8dNRyEAKn62DU0qQQOZ1xCGbLJxANSkF3X5mxUBBDkqYyWTHQE7BGmeLL6hAS+fDs/ISwkCOHr+3WditQL3HmSZ8vYlAAAAAAACAjUC7YkZ4D8uyQEjfpGlwDZFAlufB3b334UAEHEKVQJjYQFJEhlWkeqVASAeQRmpdg0DeVKTC6HefQFZl3xWmGehAmGn7VwzL1UCwrDQp5VukQHui68KXKMNA4KKTpdZMsECIf9jS5/C8QLWpukf27KhAowvqW/YOzkBVTRB1aQfUQKJ6a2At4NJA3Qn2Xx/2vUDT2cngPBzFQAWrjyy1+IpAZof4h735mEAPRYE+tSXVQA+dnnfjwZpAWyOCcUQdw0DoJO93U/SKQKJinL/lBOdAYHZPHpQ90kByxFp8ECrZQAW4augg8YxAhnMNM9QawkAwKqkTRCXcQJ6xL9kwBK9AK97IPMpUpEANbmsLe6GxQP+ye/J3iOBAGH0FaU1Q4kBMio9PjFiwQI4ev7eRC9xA4UIewe1NkUCDr691ZSK9QKkf5XHCl4tAdF5jlyCW0UBkzF1L7LS7QJIIjWAjhcBAF35wPoWBkEDj32dcaDbgQOv/HOb0+ORAMJ5BQ7u5xEBblNkg50vGQJHSbB4nE6NAajS5GLOip0D9hR4xitGhQEDc1avY3JNA2On2SFlbfUA=",
          "dtype": "f8"
         }
        }
       ],
       "layout": {
        "autosize": true,
        "dragmode": "zoom",
        "template": {
         "data": {
          "bar": [
           {
            "error_x": {
             "color": "#2a3f5f"
            },
            "error_y": {
             "color": "#2a3f5f"
            },
            "marker": {
             "line": {
              "color": "#E5ECF6",
              "width": 0.5
             },
             "pattern": {
              "fillmode": "overlay",
              "size": 10,
              "solidity": 0.2
             }
            },
            "type": "bar"
           }
          ],
          "barpolar": [
           {
            "marker": {
             "line": {
              "color": "#E5ECF6",
              "width": 0.5
             },
             "pattern": {
              "fillmode": "overlay",
              "size": 10,
              "solidity": 0.2
             }
            },
            "type": "barpolar"
           }
          ],
          "carpet": [
           {
            "aaxis": {
             "endlinecolor": "#2a3f5f",
             "gridcolor": "white",
             "linecolor": "white",
             "minorgridcolor": "white",
             "startlinecolor": "#2a3f5f"
            },
            "baxis": {
             "endlinecolor": "#2a3f5f",
             "gridcolor": "white",
             "linecolor": "white",
             "minorgridcolor": "white",
             "startlinecolor": "#2a3f5f"
            },
            "type": "carpet"
           }
          ],
          "choropleth": [
           {
            "colorbar": {
             "outlinewidth": 0,
             "ticks": ""
            },
            "type": "choropleth"
           }
          ],
          "contour": [
           {
            "colorbar": {
             "outlinewidth": 0,
             "ticks": ""
            },
            "colorscale": [
             [
              0,
              "#0d0887"
             ],
             [
              0.1111111111111111,
              "#46039f"
             ],
             [
              0.2222222222222222,
              "#7201a8"
             ],
             [
              0.3333333333333333,
              "#9c179e"
             ],
             [
              0.4444444444444444,
              "#bd3786"
             ],
             [
              0.5555555555555556,
              "#d8576b"
             ],
             [
              0.6666666666666666,
              "#ed7953"
             ],
             [
              0.7777777777777778,
              "#fb9f3a"
             ],
             [
              0.8888888888888888,
              "#fdca26"
             ],
             [
              1,
              "#f0f921"
             ]
            ],
            "type": "contour"
           }
          ],
          "contourcarpet": [
           {
            "colorbar": {
             "outlinewidth": 0,
             "ticks": ""
            },
            "type": "contourcarpet"
           }
          ],
          "heatmap": [
           {
            "colorbar": {
             "outlinewidth": 0,
             "ticks": ""
            },
            "colorscale": [
             [
              0,
              "#0d0887"
             ],
             [
              0.1111111111111111,
              "#46039f"
             ],
             [
              0.2222222222222222,
              "#7201a8"
             ],
             [
              0.3333333333333333,
              "#9c179e"
             ],
             [
              0.4444444444444444,
              "#bd3786"
             ],
             [
              0.5555555555555556,
              "#d8576b"
             ],
             [
              0.6666666666666666,
              "#ed7953"
             ],
             [
              0.7777777777777778,
              "#fb9f3a"
             ],
             [
              0.8888888888888888,
              "#fdca26"
             ],
             [
              1,
              "#f0f921"
             ]
            ],
            "type": "heatmap"
           }
          ],
          "histogram": [
           {
            "marker": {
             "pattern": {
              "fillmode": "overlay",
              "size": 10,
              "solidity": 0.2
             }
            },
            "type": "histogram"
           }
          ],
          "histogram2d": [
           {
            "colorbar": {
             "outlinewidth": 0,
             "ticks": ""
            },
            "colorscale": [
             [
              0,
              "#0d0887"
             ],
             [
              0.1111111111111111,
              "#46039f"
             ],
             [
              0.2222222222222222,
              "#7201a8"
             ],
             [
              0.3333333333333333,
              "#9c179e"
             ],
             [
              0.4444444444444444,
              "#bd3786"
             ],
             [
              0.5555555555555556,
              "#d8576b"
             ],
             [
              0.6666666666666666,
              "#ed7953"
             ],
             [
              0.7777777777777778,
              "#fb9f3a"
             ],
             [
              0.8888888888888888,
              "#fdca26"
             ],
             [
              1,
              "#f0f921"
             ]
            ],
            "type": "histogram2d"
           }
          ],
          "histogram2dcontour": [
           {
            "colorbar": {
             "outlinewidth": 0,
             "ticks": ""
            },
            "colorscale": [
             [
              0,
              "#0d0887"
             ],
             [
              0.1111111111111111,
              "#46039f"
             ],
             [
              0.2222222222222222,
              "#7201a8"
             ],
             [
              0.3333333333333333,
              "#9c179e"
             ],
             [
              0.4444444444444444,
              "#bd3786"
             ],
             [
              0.5555555555555556,
              "#d8576b"
             ],
             [
              0.6666666666666666,
              "#ed7953"
             ],
             [
              0.7777777777777778,
              "#fb9f3a"
             ],
             [
              0.8888888888888888,
              "#fdca26"
             ],
             [
              1,
              "#f0f921"
             ]
            ],
            "type": "histogram2dcontour"
           }
          ],
          "mesh3d": [
           {
            "colorbar": {
             "outlinewidth": 0,
             "ticks": ""
            },
            "type": "mesh3d"
           }
          ],
          "parcoords": [
           {
            "line": {
             "colorbar": {
              "outlinewidth": 0,
              "ticks": ""
             }
            },
            "type": "parcoords"
           }
          ],
          "pie": [
           {
            "automargin": true,
            "type": "pie"
           }
          ],
          "scatter": [
           {
            "fillpattern": {
             "fillmode": "overlay",
             "size": 10,
             "solidity": 0.2
            },
            "type": "scatter"
           }
          ],
          "scatter3d": [
           {
            "line": {
             "colorbar": {
              "outlinewidth": 0,
              "ticks": ""
             }
            },
            "marker": {
             "colorbar": {
              "outlinewidth": 0,
              "ticks": ""
             }
            },
            "type": "scatter3d"
           }
          ],
          "scattercarpet": [
           {
            "marker": {
             "colorbar": {
              "outlinewidth": 0,
              "ticks": ""
             }
            },
            "type": "scattercarpet"
           }
          ],
          "scattergeo": [
           {
            "marker": {
             "colorbar": {
              "outlinewidth": 0,
              "ticks": ""
             }
            },
            "type": "scattergeo"
           }
          ],
          "scattergl": [
           {
            "marker": {
             "colorbar": {
              "outlinewidth": 0,
              "ticks": ""
             }
            },
            "type": "scattergl"
           }
          ],
          "scattermap": [
           {
            "marker": {
             "colorbar": {
              "outlinewidth": 0,
              "ticks": ""
             }
            },
            "type": "scattermap"
           }
          ],
          "scattermapbox": [
           {
            "marker": {
             "colorbar": {
              "outlinewidth": 0,
              "ticks": ""
             }
            },
            "type": "scattermapbox"
           }
          ],
          "scatterpolar": [
           {
            "marker": {
             "colorbar": {
              "outlinewidth": 0,
              "ticks": ""
             }
            },
            "type": "scatterpolar"
           }
          ],
          "scatterpolargl": [
           {
            "marker": {
             "colorbar": {
              "outlinewidth": 0,
              "ticks": ""
             }
            },
            "type": "scatterpolargl"
           }
          ],
          "scatterternary": [
           {
            "marker": {
             "colorbar": {
              "outlinewidth": 0,
              "ticks": ""
             }
            },
            "type": "scatterternary"
           }
          ],
          "surface": [
           {
            "colorbar": {
             "outlinewidth": 0,
             "ticks": ""
            },
            "colorscale": [
             [
              0,
              "#0d0887"
             ],
             [
              0.1111111111111111,
              "#46039f"
             ],
             [
              0.2222222222222222,
              "#7201a8"
             ],
             [
              0.3333333333333333,
              "#9c179e"
             ],
             [
              0.4444444444444444,
              "#bd3786"
             ],
             [
              0.5555555555555556,
              "#d8576b"
             ],
             [
              0.6666666666666666,
              "#ed7953"
             ],
             [
              0.7777777777777778,
              "#fb9f3a"
             ],
             [
              0.8888888888888888,
              "#fdca26"
             ],
             [
              1,
              "#f0f921"
             ]
            ],
            "type": "surface"
           }
          ],
          "table": [
           {
            "cells": {
             "fill": {
              "color": "#EBF0F8"
             },
             "line": {
              "color": "white"
             }
            },
            "header": {
             "fill": {
              "color": "#C8D4E3"
             },
             "line": {
              "color": "white"
             }
            },
            "type": "table"
           }
          ]
         },
         "layout": {
          "annotationdefaults": {
           "arrowcolor": "#2a3f5f",
           "arrowhead": 0,
           "arrowwidth": 1
          },
          "autotypenumbers": "strict",
          "coloraxis": {
           "colorbar": {
            "outlinewidth": 0,
            "ticks": ""
           }
          },
          "colorscale": {
           "diverging": [
            [
             0,
             "#8e0152"
            ],
            [
             0.1,
             "#c51b7d"
            ],
            [
             0.2,
             "#de77ae"
            ],
            [
             0.3,
             "#f1b6da"
            ],
            [
             0.4,
             "#fde0ef"
            ],
            [
             0.5,
             "#f7f7f7"
            ],
            [
             0.6,
             "#e6f5d0"
            ],
            [
             0.7,
             "#b8e186"
            ],
            [
             0.8,
             "#7fbc41"
            ],
            [
             0.9,
             "#4d9221"
            ],
            [
             1,
             "#276419"
            ]
           ],
           "sequential": [
            [
             0,
             "#0d0887"
            ],
            [
             0.1111111111111111,
             "#46039f"
            ],
            [
             0.2222222222222222,
             "#7201a8"
            ],
            [
             0.3333333333333333,
             "#9c179e"
            ],
            [
             0.4444444444444444,
             "#bd3786"
            ],
            [
             0.5555555555555556,
             "#d8576b"
            ],
            [
             0.6666666666666666,
             "#ed7953"
            ],
            [
             0.7777777777777778,
             "#fb9f3a"
            ],
            [
             0.8888888888888888,
             "#fdca26"
            ],
            [
             1,
             "#f0f921"
            ]
           ],
           "sequentialminus": [
            [
             0,
             "#0d0887"
            ],
            [
             0.1111111111111111,
             "#46039f"
            ],
            [
             0.2222222222222222,
             "#7201a8"
            ],
            [
             0.3333333333333333,
             "#9c179e"
            ],
            [
             0.4444444444444444,
             "#bd3786"
            ],
            [
             0.5555555555555556,
             "#d8576b"
            ],
            [
             0.6666666666666666,
             "#ed7953"
            ],
            [
             0.7777777777777778,
             "#fb9f3a"
            ],
            [
             0.8888888888888888,
             "#fdca26"
            ],
            [
             1,
             "#f0f921"
            ]
           ]
          },
          "colorway": [
           "#636efa",
           "#EF553B",
           "#00cc96",
           "#ab63fa",
           "#FFA15A",
           "#19d3f3",
           "#FF6692",
           "#B6E880",
           "#FF97FF",
           "#FECB52"
          ],
          "font": {
           "color": "#2a3f5f"
          },
          "geo": {
           "bgcolor": "white",
           "lakecolor": "white",
           "landcolor": "#E5ECF6",
           "showlakes": true,
           "showland": true,
           "subunitcolor": "white"
          },
          "hoverlabel": {
           "align": "left"
          },
          "hovermode": "closest",
          "mapbox": {
           "style": "light"
          },
          "paper_bgcolor": "white",
          "plot_bgcolor": "#E5ECF6",
          "polar": {
           "angularaxis": {
            "gridcolor": "white",
            "linecolor": "white",
            "ticks": ""
           },
           "bgcolor": "#E5ECF6",
           "radialaxis": {
            "gridcolor": "white",
            "linecolor": "white",
            "ticks": ""
           }
          },
          "scene": {
           "xaxis": {
            "backgroundcolor": "#E5ECF6",
            "gridcolor": "white",
            "gridwidth": 2,
            "linecolor": "white",
            "showbackground": true,
            "ticks": "",
            "zerolinecolor": "white"
           },
           "yaxis": {
            "backgroundcolor": "#E5ECF6",
            "gridcolor": "white",
            "gridwidth": 2,
            "linecolor": "white",
            "showbackground": true,
            "ticks": "",
            "zerolinecolor": "white"
           },
           "zaxis": {
            "backgroundcolor": "#E5ECF6",
            "gridcolor": "white",
            "gridwidth": 2,
            "linecolor": "white",
            "showbackground": true,
            "ticks": "",
            "zerolinecolor": "white"
           }
          },
          "shapedefaults": {
           "line": {
            "color": "#2a3f5f"
           }
          },
          "ternary": {
           "aaxis": {
            "gridcolor": "white",
            "linecolor": "white",
            "ticks": ""
           },
           "baxis": {
            "gridcolor": "white",
            "linecolor": "white",
            "ticks": ""
           },
           "bgcolor": "#E5ECF6",
           "caxis": {
            "gridcolor": "white",
            "linecolor": "white",
            "ticks": ""
           }
          },
          "title": {
           "x": 0.05
          },
          "xaxis": {
           "automargin": true,
           "gridcolor": "white",
           "linecolor": "white",
           "ticks": "",
           "title": {
            "standoff": 15
           },
           "zerolinecolor": "white",
           "zerolinewidth": 2
          },
          "yaxis": {
           "automargin": true,
           "gridcolor": "white",
           "linecolor": "white",
           "ticks": "",
           "title": {
            "standoff": 15
           },
           "zerolinecolor": "white",
           "zerolinewidth": 2
          }
         }
        },
        "title": {
         "text": "Life exp vs gdp per cap for 2007"
        },
        "xaxis": {
         "autorange": false,
         "range": [
          56.4544846348686,
          57.10810069091185
         ],
         "title": {
          "text": "life exp"
         },
         "type": "linear"
        },
        "yaxis": {
         "autorange": false,
         "range": [
          12533.452587017464,
          13777.650537735424
         ],
         "title": {
          "text": "gdp per cap"
         },
         "type": "linear"
        }
       }
      },
      "image/png": "[encoded data removed]"
     },
     "metadata": {},
     "output_type": "display_data"
    }
   ],
   "source": [
    "trace1=go.Scatter(x=temp_df['lifeExp'],y=temp_df[\"gdpPercap\"],mode=\"markers\")\n",
    "\n",
    "data=[trace1]\n",
    "\n",
    "layout=go.Layout(title='Life exp vs gdp per cap for 2007',xaxis={\"title\":\"life exp\"},yaxis={'title':\"gdp per cap\"})\n",
    "\n",
    "fig=go.Figure(data,layout)\n",
    "\n",
    "fig.show()"
   ]
  },
  {
   "cell_type": "code",
   "execution_count": 17,
   "id": "5092d6fb-a08b-4dd5-ade5-bb3a19763a2b",
   "metadata": {},
   "outputs": [
    {
     "data": {
      "application/vnd.plotly.v1+json": {
       "config": {
        "plotlyServerURL": "https://plot.ly"
       },
       "data": [
        {
         "mode": "markers",
         "type": "scatter",
         "x": {
          "_inputArray": {
           "0": 43.828,
           "1": 76.423,
           "10": 56.728,
           "100": 71.421,
           "101": 71.688,
           "102": 75.563,
           "103": 78.098,
           "104": 78.74600000000002,
           "105": 76.442,
           "106": 72.476,
           "107": 46.242,
           "108": 65.528,
           "109": 72.777,
           "11": 65.554,
           "110": 63.062,
           "111": 74.002,
           "112": 42.56800000000001,
           "113": 79.972,
           "114": 74.663,
           "115": 77.926,
           "116": 48.159,
           "117": 49.339,
           "118": 80.941,
           "119": 72.396,
           "12": 74.852,
           "120": 58.556,
           "121": 39.613,
           "122": 80.884,
           "123": 81.70100000000002,
           "124": 74.143,
           "125": 78.4,
           "126": 52.517,
           "127": 70.616,
           "128": 58.42,
           "129": 69.819,
           "13": 50.728,
           "130": 73.923,
           "131": 71.777,
           "132": 51.542,
           "133": 79.425,
           "134": 78.242,
           "135": 76.384,
           "136": 73.747,
           "137": 74.249,
           "138": 73.422,
           "139": 62.698,
           "14": 72.39,
           "140": 42.38399999999999,
           "141": 43.487,
           "15": 73.005,
           "16": 52.295,
           "17": 49.58,
           "18": 59.723,
           "19": 50.43,
           "2": 72.301,
           "20": 80.653,
           "21": 44.74100000000001,
           "22": 50.651,
           "23": 78.553,
           "24": 72.961,
           "25": 72.889,
           "26": 65.152,
           "27": 46.462,
           "28": 55.322,
           "29": 78.782,
           "3": 42.731,
           "30": 48.328,
           "31": 75.748,
           "32": 78.273,
           "33": 76.486,
           "34": 78.332,
           "35": 54.791,
           "36": 72.235,
           "37": 74.994,
           "38": 71.33800000000002,
           "39": 71.878,
           "4": 75.32,
           "40": 51.57899999999999,
           "41": 58.04,
           "42": 52.947,
           "43": 79.313,
           "44": 80.657,
           "45": 56.735,
           "46": 59.448,
           "47": 79.406,
           "48": 60.022,
           "49": 79.483,
           "5": 81.235,
           "50": 70.259,
           "51": 56.007,
           "52": 46.38800000000001,
           "53": 60.916,
           "54": 70.19800000000001,
           "55": 82.208,
           "56": 73.33800000000002,
           "57": 81.757,
           "58": 64.69800000000001,
           "59": 70.65,
           "6": 79.829,
           "60": 70.964,
           "61": 59.545,
           "62": 78.885,
           "63": 80.745,
           "64": 80.546,
           "65": 72.567,
           "66": 82.603,
           "67": 72.535,
           "68": 54.11,
           "69": 67.297,
           "7": 75.635,
           "70": 78.623,
           "71": 77.58800000000002,
           "72": 71.993,
           "73": 42.592,
           "74": 45.678,
           "75": 73.952,
           "76": 59.44300000000001,
           "77": 48.303,
           "78": 74.241,
           "79": 54.467,
           "8": 64.062,
           "80": 64.164,
           "81": 72.801,
           "82": 76.195,
           "83": 66.803,
           "84": 74.543,
           "85": 71.164,
           "86": 42.082,
           "87": 62.069,
           "88": 52.90600000000001,
           "89": 63.785,
           "9": 79.441,
           "90": 79.762,
           "91": 80.204,
           "92": 72.899,
           "93": 56.867,
           "94": 46.859,
           "95": 80.196,
           "96": 75.64,
           "97": 65.483,
           "98": 75.53699999999998,
           "99": 71.752,
           "bdata": "RIts5/vpRUBQjZduEhtTQCUGgZVDE1JAIbByaJFdRUAUrkfhetRSQNejcD0KT1RAkxgEVg71U0BxPQrXo+hSQIcW2c73A1BATmIQWDncU0B3vp8aL11MQPp+arx0Y1BASgwCK4e2UkB3vp8aL11JQClcj8L1GFJAuB6F61FAUkD2KFyPwiVKQArXo3A9ykhABoGVQ4vcTUDXo3A9CjdJQG8Sg8DKKVRAAyuHFtleRkAX2c73U1NJQAisHFpko1NAL90kBoE9UkA3iUFg5ThSQH0/NV66SVBAQmDl0CI7R0Dwp8ZLN6lLQDVeukkMslNARIts5/spSEAdWmQ73+9SQLbz/dR4kVNAyXa+nxofU0Boke18P5VTQGiR7Xw/ZUtA16NwPQoPUkBWDi2ynb9SQBSDwMqh1VFA1XjpJjH4UUAmMQisHMpJQIXrUbgeBU1A8KfGSzd5SkB56SYxCNRTQDVeukkMKlRArkfhehReTEDTTWIQWLlNQESLbOf72VNAiUFg5dACTkD0/dR46d5TQH9qvHSTkFFAN4lBYOUATECNbOf7qTFHQGiR7Xw/dU5A6iYxCKyMUUBaZDvfT41UQBSDwMqhVVJAnMQgsHJwVEDqJjEIrCxQQJqZmZmZqVFABFYOLbK9UUD2KFyPwsVNQHE9CtejuFNASOF6FK4vVEBt5/up8SJUQD81XrpJJFJAO99PjZemVEAK16NwPSJSQK5H4XoUDktAXrpJDALTUEAdWmQ736dTQBSDwMqhZVNAZDvfT43/UUCyne+nxktFQBBYObTI1kZAsHJoke18UkBkEFg5tLhNQBBYObTIJkhAgZVDi2yPUkCyne+nxjtLQNEi2/l+ClBAJQaBlUMzUkAUrkfhegxTQAisHFpks1BAmG4Sg8CiUkDRItv5fspRQNEi2/l+CkVARrbz/dQIT0CJFtnO93NKQBSuR+F65E9AVOOlm8TwU0CTGARWDg1UQKjGSzeJOVJA5dAi2/luTEDLoUW2821HQAaBlUOLDFRAKVyPwvXoUkD0/dR46V5QQOx8PzVe4lJA46WbxCDwUUBt5/up8dpRQHnpJjEI7FFAeekmMQjkUkCDwMqhRYZTQDu0yHa+r1NAPzVeukkcU0BYObTIdh5SQOXQItv5HkdAbxKDwMphUEB9PzVeujFSQA4tsp3vh09A46WbxCCAUkBkEFg5tEhFQJHtfD81/lNA30+Nl26qUkAlBoGVQ3tTQDEIrBxaFEhACKwcWmSrSEBOYhBYOTxUQNNNYhBYGVJAukkMAitHTUBYObTIds5DQH9qvHSTOFRAwJ8aL91sVED+1HjpJolSQJqZmZmZmVNAGQRWDi1CSkCBlUOLbKdRQPYoXI/CNU1AI9v5fmp0UUBQjZduEntSQH0/NV668VFATDeJQWDFSUAzMzMzM9tTQHNoke18j1NAf2q8dJMYU0ArhxbZzm9SQA4tsp3vj1JAXrpJDAJbUkDTTWIQWFlPQP3UeOkmMUVAdZMYBFa+RUA=",
           "dtype": "f8",
           "shape": "142"
          },
          "bdata": "RIts5/vpRUBQjZduEhtTQCUGgZVDE1JAIbByaJFdRUAUrkfhetRSQNejcD0KT1RAkxgEVg71U0BxPQrXo+hSQIcW2c73A1BATmIQWDncU0B3vp8aL11MQPp+arx0Y1BASgwCK4e2UkB3vp8aL11JQClcj8L1GFJAuB6F61FAUkD2KFyPwiVKQArXo3A9ykhABoGVQ4vcTUDXo3A9CjdJQG8Sg8DKKVRAAyuHFtleRkAX2c73U1NJQAisHFpko1NAL90kBoE9UkA3iUFg5ThSQH0/NV66SVBAQmDl0CI7R0Dwp8ZLN6lLQDVeukkMslNARIts5/spSEAdWmQ73+9SQLbz/dR4kVNAyXa+nxofU0Boke18P5VTQGiR7Xw/ZUtA16NwPQoPUkBWDi2ynb9SQBSDwMqh1VFA1XjpJjH4UUAmMQisHMpJQIXrUbgeBU1A8KfGSzd5SkB56SYxCNRTQDVeukkMKlRArkfhehReTEDTTWIQWLlNQESLbOf72VNAiUFg5dACTkD0/dR46d5TQH9qvHSTkFFAN4lBYOUATECNbOf7qTFHQGiR7Xw/dU5A6iYxCKyMUUBaZDvfT41UQBSDwMqhVVJAnMQgsHJwVEDqJjEIrCxQQJqZmZmZqVFABFYOLbK9UUD2KFyPwsVNQHE9CtejuFNASOF6FK4vVEBt5/up8SJUQD81XrpJJFJAO99PjZemVEAK16NwPSJSQK5H4XoUDktAXrpJDALTUEAdWmQ736dTQBSDwMqhZVNAZDvfT43/UUCyne+nxktFQBBYObTI1kZAsHJoke18UkBkEFg5tLhNQBBYObTIJkhAgZVDi2yPUkCyne+nxjtLQNEi2/l+ClBAJQaBlUMzUkAUrkfhegxTQAisHFpks1BAmG4Sg8CiUkDRItv5fspRQNEi2/l+CkVARrbz/dQIT0CJFtnO93NKQBSuR+F65E9AVOOlm8TwU0CTGARWDg1UQKjGSzeJOVJA5dAi2/luTEDLoUW2821HQAaBlUOLDFRAKVyPwvXoUkD0/dR46V5QQOx8PzVe4lJA46WbxCDwUUBt5/up8dpRQHnpJjEI7FFAeekmMQjkUkCDwMqhRYZTQDu0yHa+r1NAPzVeukkcU0BYObTIdh5SQOXQItv5HkdAbxKDwMphUEB9PzVeujFSQA4tsp3vh09A46WbxCCAUkBkEFg5tEhFQJHtfD81/lNA30+Nl26qUkAlBoGVQ3tTQDEIrBxaFEhACKwcWmSrSEBOYhBYOTxUQNNNYhBYGVJAukkMAitHTUBYObTIds5DQH9qvHSTOFRAwJ8aL91sVED+1HjpJolSQJqZmZmZmVNAGQRWDi1CSkCBlUOLbKdRQPYoXI/CNU1AI9v5fmp0UUBQjZduEntSQH0/NV668VFATDeJQWDFSUAzMzMzM9tTQHNoke18j1NAf2q8dJMYU0ArhxbZzm9SQA4tsp3vj1JAXrpJDAJbUkDTTWIQWFlPQP3UeOkmMUVAdZMYBFa+RUA=",
          "dtype": "f8"
         },
         "y": {
          "_inputArray": {
           "0": 974.5803384,
           "1": 5937.029525999998,
           "10": 1441.284873,
           "100": 7408.905561,
           "101": 3190.481016,
           "102": 15389.924680000002,
           "103": 20509.64777,
           "104": 19328.70901,
           "105": 7670.122558,
           "106": 10808.47561,
           "107": 863.0884639000002,
           "108": 1598.435089,
           "109": 21654.83194,
           "11": 3822.137084,
           "110": 1712.472136,
           "111": 9786.534714,
           "112": 862.5407561000002,
           "113": 47143.17964,
           "114": 18678.31435,
           "115": 25768.25759,
           "116": 926.1410683,
           "117": 9269.657808,
           "118": 28821.0637,
           "119": 3970.095407,
           "12": 7446.298803,
           "120": 2602.394995,
           "121": 4513.480643,
           "122": 33859.74835,
           "123": 37506.41907,
           "124": 4184.548089,
           "125": 28718.27684,
           "126": 1107.482182,
           "127": 7458.396326999998,
           "128": 882.9699437999999,
           "129": 18008.50924,
           "13": 12569.85177,
           "130": 7092.923025,
           "131": 8458.276384,
           "132": 1056.380121,
           "133": 33203.26128,
           "134": 42951.65309,
           "135": 10611.46299,
           "136": 11415.80569,
           "137": 2441.576404,
           "138": 3025.349798,
           "139": 2280.769906,
           "14": 9065.800825,
           "140": 1271.211593,
           "141": 469.70929810000007,
           "15": 10680.79282,
           "16": 1217.032994,
           "17": 430.0706916,
           "18": 1713.778686,
           "19": 2042.09524,
           "2": 6223.367465,
           "20": 36319.23501,
           "21": 706.016537,
           "22": 1704.063724,
           "23": 13171.63885,
           "24": 4959.114854,
           "25": 7006.580419,
           "26": 986.1478792,
           "27": 277.5518587,
           "28": 3632.557798,
           "29": 9645.06142,
           "3": 4797.231267,
           "30": 1544.750112,
           "31": 14619.222719999998,
           "32": 8948.102923,
           "33": 22833.30851,
           "34": 35278.41874,
           "35": 2082.4815670000007,
           "36": 6025.3747520000015,
           "37": 6873.262326000001,
           "38": 5581.180998,
           "39": 5728.353514,
           "4": 12779.37964,
           "40": 12154.08975,
           "41": 641.3695236000002,
           "42": 690.8055759,
           "43": 33207.0844,
           "44": 30470.0167,
           "45": 13206.48452,
           "46": 752.7497265,
           "47": 32170.37442,
           "48": 1327.60891,
           "49": 27538.41188,
           "5": 34435.367439999995,
           "50": 5186.050003,
           "51": 942.6542111,
           "52": 579.2317429999998,
           "53": 1201.637154,
           "54": 3548.3308460000007,
           "55": 39724.97867,
           "56": 18008.94444,
           "57": 36180.78919,
           "58": 2452.210407,
           "59": 3540.651564,
           "6": 36126.4927,
           "60": 11605.71449,
           "61": 4471.061906,
           "62": 40675.99635,
           "63": 25523.2771,
           "64": 28569.7197,
           "65": 7320.8802620000015,
           "66": 31656.06806,
           "67": 4519.461171,
           "68": 1463.249282,
           "69": 1593.06548,
           "7": 29796.04834,
           "70": 23348.139730000006,
           "71": 47306.98978,
           "72": 10461.05868,
           "73": 1569.331442,
           "74": 414.5073415,
           "75": 12057.49928,
           "76": 1044.770126,
           "77": 759.3499101,
           "78": 12451.6558,
           "79": 1042.581557,
           "8": 1391.253792,
           "80": 1803.151496,
           "81": 10956.99112,
           "82": 11977.57496,
           "83": 3095.7722710000007,
           "84": 9253.896111,
           "85": 3820.17523,
           "86": 823.6856205,
           "87": 944,
           "88": 4811.060429,
           "89": 1091.359778,
           "9": 33692.60508,
           "90": 36797.93332,
           "91": 25185.00911,
           "92": 2749.320965,
           "93": 619.6768923999998,
           "94": 2013.977305,
           "95": 49357.19017,
           "96": 22316.19287,
           "97": 2605.94758,
           "98": 9809.185636,
           "99": 4172.838464,
           "bdata": "54R1iKR0jkBgFASPBzG3QG2tLxJeT7hApWlQNDu9skAgJAuYsPXIQOeHEcJr0OBAWMoyxM+j4UDGpwAYAxndQPLPDOIDvZVAb7vQXJNz4EAOar+1I4WWQJzB3y9G3K1A8nhafkwWvUDboswG7YzIQGkAb4HmtMFAzzEge2XcxEDb2y3JIQSTQKHhg40h4XpAat/cXx3HmkAWNZiGYeifQAexM4Xnu+FAZJEm3iEQhkDiP91AQaCaQIY41sXRuclA0V0SZx1fs0D67laWlF67QBI+Stsu0Y5ANsjJadRYcUCMD7OXHWGsQKlNnNyH1sJAWTFcHQAjmEAUxhaCnI3MQIGzlCwNesFAH7qgvlNM1kCxbVFmzTnhQKwn84/2RKBAHkC/71+Jt0Dl9ssnQ9m6QKSK4lUuzbVArrzkf1pgtkBoke18C73HQM8Iysj0CoRAkQfH0XGWhUD5oGez4jbgQHbgnBGBwd1AIVnABD7LyUCOc5tw/4WHQL5Nf/aXat9A1GAahm++lEB47j1cmuTaQLQh/8wMQrRAcXkH0zt1jUCc8BKc2hmCQBAiGXKMxpJACJylZKm4q0Byv0NRn2XjQEJ4tHE8ltFAC2MLQZmq4UCzX3e6ayijQIDuy5lNqatAqYdodNuqxkBtVRLZD3exQCxlGeJ/3ONAbqMBvNHs2EC8lpAPbubbQOu12VjhmLxAi1QYWwTq3kDdek0PdqexQO3Vx0P/3JZAK2owDUPkmEATGVbxCM3WQEgbR6xfGedAd4TTgoduxEAVGohlU4WYQHXmHhIe6HlAxjNo6L+Mx0Ay/+ibFFOQQFKgqp3MuodAXCBB8dNRyEAKn62DU0qQQOZ1xCGbLJxANSkF3X5mxUBBDkqYyWTHQE7BGmeLL6hAS+fDs/ISwkCOHr+3WditQL3HmSZ8vYlAAAAAAACAjUC7YkZ4D8uyQEjfpGlwDZFAlufB3b334UAEHEKVQJjYQFJEhlWkeqVASAeQRmpdg0DeVKTC6HefQFZl3xWmGehAmGn7VwzL1UCwrDQp5VukQHui68KXKMNA4KKTpdZMsECIf9jS5/C8QLWpukf27KhAowvqW/YOzkBVTRB1aQfUQKJ6a2At4NJA3Qn2Xx/2vUDT2cngPBzFQAWrjyy1+IpAZof4h735mEAPRYE+tSXVQA+dnnfjwZpAWyOCcUQdw0DoJO93U/SKQKJinL/lBOdAYHZPHpQ90kByxFp8ECrZQAW4augg8YxAhnMNM9QawkAwKqkTRCXcQJ6xL9kwBK9AK97IPMpUpEANbmsLe6GxQP+ye/J3iOBAGH0FaU1Q4kBMio9PjFiwQI4ev7eRC9xA4UIewe1NkUCDr691ZSK9QKkf5XHCl4tAdF5jlyCW0UBkzF1L7LS7QJIIjWAjhcBAF35wPoWBkEDj32dcaDbgQOv/HOb0+ORAMJ5BQ7u5xEBblNkg50vGQJHSbB4nE6NAajS5GLOip0D9hR4xitGhQEDc1avY3JNA2On2SFlbfUA=",
           "dtype": "f8",
           "shape": "142"
          },
          "bdata": "54R1iKR0jkBgFASPBzG3QG2tLxJeT7hApWlQNDu9skAgJAuYsPXIQOeHEcJr0OBAWMoyxM+j4UDGpwAYAxndQPLPDOIDvZVAb7vQXJNz4EAOar+1I4WWQJzB3y9G3K1A8nhafkwWvUDboswG7YzIQGkAb4HmtMFAzzEge2XcxEDb2y3JIQSTQKHhg40h4XpAat/cXx3HmkAWNZiGYeifQAexM4Xnu+FAZJEm3iEQhkDiP91AQaCaQIY41sXRuclA0V0SZx1fs0D67laWlF67QBI+Stsu0Y5ANsjJadRYcUCMD7OXHWGsQKlNnNyH1sJAWTFcHQAjmEAUxhaCnI3MQIGzlCwNesFAH7qgvlNM1kCxbVFmzTnhQKwn84/2RKBAHkC/71+Jt0Dl9ssnQ9m6QKSK4lUuzbVArrzkf1pgtkBoke18C73HQM8Iysj0CoRAkQfH0XGWhUD5oGez4jbgQHbgnBGBwd1AIVnABD7LyUCOc5tw/4WHQL5Nf/aXat9A1GAahm++lEB47j1cmuTaQLQh/8wMQrRAcXkH0zt1jUCc8BKc2hmCQBAiGXKMxpJACJylZKm4q0Byv0NRn2XjQEJ4tHE8ltFAC2MLQZmq4UCzX3e6ayijQIDuy5lNqatAqYdodNuqxkBtVRLZD3exQCxlGeJ/3ONAbqMBvNHs2EC8lpAPbubbQOu12VjhmLxAi1QYWwTq3kDdek0PdqexQO3Vx0P/3JZAK2owDUPkmEATGVbxCM3WQEgbR6xfGedAd4TTgoduxEAVGohlU4WYQHXmHhIe6HlAxjNo6L+Mx0Ay/+ibFFOQQFKgqp3MuodAXCBB8dNRyEAKn62DU0qQQOZ1xCGbLJxANSkF3X5mxUBBDkqYyWTHQE7BGmeLL6hAS+fDs/ISwkCOHr+3WditQL3HmSZ8vYlAAAAAAACAjUC7YkZ4D8uyQEjfpGlwDZFAlufB3b334UAEHEKVQJjYQFJEhlWkeqVASAeQRmpdg0DeVKTC6HefQFZl3xWmGehAmGn7VwzL1UCwrDQp5VukQHui68KXKMNA4KKTpdZMsECIf9jS5/C8QLWpukf27KhAowvqW/YOzkBVTRB1aQfUQKJ6a2At4NJA3Qn2Xx/2vUDT2cngPBzFQAWrjyy1+IpAZof4h735mEAPRYE+tSXVQA+dnnfjwZpAWyOCcUQdw0DoJO93U/SKQKJinL/lBOdAYHZPHpQ90kByxFp8ECrZQAW4augg8YxAhnMNM9QawkAwKqkTRCXcQJ6xL9kwBK9AK97IPMpUpEANbmsLe6GxQP+ye/J3iOBAGH0FaU1Q4kBMio9PjFiwQI4ev7eRC9xA4UIewe1NkUCDr691ZSK9QKkf5XHCl4tAdF5jlyCW0UBkzF1L7LS7QJIIjWAjhcBAF35wPoWBkEDj32dcaDbgQOv/HOb0+ORAMJ5BQ7u5xEBblNkg50vGQJHSbB4nE6NAajS5GLOip0D9hR4xitGhQEDc1avY3JNA2On2SFlbfUA=",
          "dtype": "f8"
         }
        },
        {
         "mode": "markers",
         "type": "scatter",
         "x": {
          "_inputArray": {
           "0": 4,
           "1": 8,
           "10": 204,
           "100": 604,
           "101": 608,
           "102": 616,
           "103": 620,
           "104": 630,
           "105": 638,
           "106": 642,
           "107": 646,
           "108": 678,
           "109": 682,
           "11": 68,
           "110": 686,
           "111": 688,
           "112": 694,
           "113": 702,
           "114": 703,
           "115": 705,
           "116": 706,
           "117": 710,
           "118": 724,
           "119": 144,
           "12": 70,
           "120": 736,
           "121": 748,
           "122": 752,
           "123": 756,
           "124": 760,
           "125": 158,
           "126": 834,
           "127": 764,
           "128": 768,
           "129": 780,
           "13": 72,
           "130": 788,
           "131": 792,
           "132": 800,
           "133": 826,
           "134": 840,
           "135": 858,
           "136": 862,
           "137": 704,
           "138": 275,
           "139": 887,
           "14": 76,
           "140": 894,
           "141": 716,
           "15": 100,
           "16": 854,
           "17": 108,
           "18": 116,
           "19": 120,
           "2": 12,
           "20": 124,
           "21": 140,
           "22": 148,
           "23": 152,
           "24": 156,
           "25": 170,
           "26": 174,
           "27": 180,
           "28": 178,
           "29": 188,
           "3": 24,
           "30": 384,
           "31": 191,
           "32": 192,
           "33": 203,
           "34": 208,
           "35": 262,
           "36": 214,
           "37": 218,
           "38": 818,
           "39": 222,
           "4": 32,
           "40": 226,
           "41": 232,
           "42": 231,
           "43": 246,
           "44": 250,
           "45": 266,
           "46": 270,
           "47": 276,
           "48": 288,
           "49": 300,
           "5": 36,
           "50": 320,
           "51": 324,
           "52": 624,
           "53": 332,
           "54": 340,
           "55": 344,
           "56": 348,
           "57": 352,
           "58": 356,
           "59": 360,
           "6": 40,
           "60": 364,
           "61": 368,
           "62": 372,
           "63": 376,
           "64": 380,
           "65": 388,
           "66": 392,
           "67": 400,
           "68": 404,
           "69": 410,
           "7": 48,
           "70": 410,
           "71": 414,
           "72": 422,
           "73": 426,
           "74": 430,
           "75": 434,
           "76": 450,
           "77": 454,
           "78": 458,
           "79": 466,
           "8": 50,
           "80": 478,
           "81": 480,
           "82": 484,
           "83": 496,
           "84": 499,
           "85": 504,
           "86": 508,
           "87": 104,
           "88": 516,
           "89": 524,
           "9": 56,
           "90": 528,
           "91": 554,
           "92": 558,
           "93": 562,
           "94": 566,
           "95": 578,
           "96": 512,
           "97": 586,
           "98": 591,
           "99": 600,
           "bdata": "BAAIAAwAGAAgACQAKAAwADIAOADMAEQARgBIAEwAZABWA2wAdAB4AHwAjACUAJgAnACqAK4AtACyALwAgAG/AMAAywDQAAYB1gDaADID3gDiAOgA5wD2APoACgEOARQBIAEsAUABRAFwAkwBVAFYAVwBYAFkAWgBbAFwAXQBeAF8AYQBiAGQAZQBmgGaAZ4BpgGqAa4BsgHCAcYBygHSAd4B4AHkAfAB8wH4AfwBaAAEAgwCEAIqAi4CMgI2AkICAAJKAk8CWAJcAmACaAJsAnYCfgKCAoYCpgKqAq4CsAK2Ar4CvwLBAsICxgLUApAA4ALsAvAC9AL4Ap4AQgP8AgADDAMUAxgDIAM6A0gDWgNeA8ACEwF3A34DzAI=",
           "dtype": "i2",
           "shape": "142"
          },
          "bdata": "BAAIAAwAGAAgACQAKAAwADIAOADMAEQARgBIAEwAZABWA2wAdAB4AHwAjACUAJgAnACqAK4AtACyALwAgAG/AMAAywDQAAYB1gDaADID3gDiAOgA5wD2APoACgEOARQBIAEsAUABRAFwAkwBVAFYAVwBYAFkAWgBbAFwAXQBeAF8AYQBiAGQAZQBmgGaAZ4BpgGqAa4BsgHCAcYBygHSAd4B4AHkAfAB8wH4AfwBaAAEAgwCEAIqAi4CMgI2AkICAAJKAk8CWAJcAmACaAJsAnYCfgKCAoYCpgKqAq4CsAK2Ar4CvwLBAsICxgLUApAA4ALsAvAC9AL4Ap4AQgP8AgADDAMUAxgDIAM6A0gDWgNeA8ACEwF3A34DzAI=",
          "dtype": "i2"
         },
         "y": {
          "_inputArray": {
           "0": 31889923,
           "1": 3600523,
           "10": 8078314,
           "100": 28674757,
           "101": 91077287,
           "102": 38518241,
           "103": 10642836,
           "104": 3942491,
           "105": 798094,
           "106": 22276056,
           "107": 8860588,
           "108": 199579,
           "109": 27601038,
           "11": 9119152,
           "110": 12267493,
           "111": 10150265,
           "112": 6144562,
           "113": 4553009,
           "114": 5447502,
           "115": 2009245,
           "116": 9118773,
           "117": 43997828,
           "118": 40448191,
           "119": 20378239,
           "12": 4552198,
           "120": 42292929,
           "121": 1133066,
           "122": 9031088,
           "123": 7554661,
           "124": 19314747,
           "125": 23174294,
           "126": 38139640,
           "127": 65068149,
           "128": 5701579,
           "129": 1056608,
           "13": 1639131,
           "130": 10276158,
           "131": 71158647,
           "132": 29170398,
           "133": 60776238,
           "134": 301139947,
           "135": 3447496,
           "136": 26084662,
           "137": 85262356,
           "138": 4018332,
           "139": 22211743,
           "14": 190010647,
           "140": 11746035,
           "141": 12311143,
           "15": 7322858,
           "16": 14326203,
           "17": 8390505,
           "18": 14131858,
           "19": 17696293,
           "2": 33333216,
           "20": 33390141,
           "21": 4369038,
           "22": 10238807,
           "23": 16284741,
           "24": 1318683096,
           "25": 44227550,
           "26": 710960,
           "27": 64606759,
           "28": 3800610,
           "29": 4133884,
           "3": 12420476,
           "30": 18013409,
           "31": 4493312,
           "32": 11416987,
           "33": 10228744,
           "34": 5468120,
           "35": 496374,
           "36": 9319622,
           "37": 13755680,
           "38": 80264543,
           "39": 6939688,
           "4": 40301927,
           "40": 551201,
           "41": 4906585,
           "42": 76511887,
           "43": 5238460,
           "44": 61083916,
           "45": 1454867,
           "46": 1688359,
           "47": 82400996,
           "48": 22873338,
           "49": 10706290,
           "5": 20434176,
           "50": 12572928,
           "51": 9947814,
           "52": 1472041,
           "53": 8502814,
           "54": 7483763,
           "55": 6980412,
           "56": 9956108,
           "57": 301931,
           "58": 1110396331,
           "59": 223547000,
           "6": 8199783,
           "60": 69453570,
           "61": 27499638,
           "62": 4109086,
           "63": 6426679,
           "64": 58147733,
           "65": 2780132,
           "66": 127467972,
           "67": 6053193,
           "68": 35610177,
           "69": 23301725,
           "7": 708573,
           "70": 49044790,
           "71": 2505559,
           "72": 3921278,
           "73": 2012649,
           "74": 3193942,
           "75": 6036914,
           "76": 19167654,
           "77": 13327079,
           "78": 24821286,
           "79": 12031795,
           "8": 150448339,
           "80": 3270065,
           "81": 1250882,
           "82": 108700891,
           "83": 2874127,
           "84": 684736,
           "85": 33757175,
           "86": 19951656,
           "87": 47761980,
           "88": 2055080,
           "89": 28901790,
           "9": 10392226,
           "90": 16570613,
           "91": 4115771,
           "92": 5675356,
           "93": 12894865,
           "94": 135031164,
           "95": 4627926,
           "96": 3204897,
           "97": 169270617,
           "98": 3242173,
           "99": 6667147,
           "bdata": "A5rmAYvwNgDgn/wBfIW9AGf1ZgIAzTcBZx59AN3PCgDTqPcIopKeAOpDewCwJYsABnZFANsCGQAXVVML6rxvALuZ2gBpB4AAkqLXACUGDgE9fv0BjqpCAFc7nABFfPgA2IGZTt7bogIw2QoAJ9LZAyL+OQD8Ez8A4dwSAQCQRACbNa4ACBScANhvUwD2kgcAxjSOACDl0QBfvcgEKORpACFpCABZ3koAj3qPBLzuTwAMEaQDEzMWACfDGQDkVukE+gRdAXJdowAA2b8ApsqXACl2FgAevoEAczFyADyDagAM65cAa5sEAKtNL0J4DlMNAscjBHacowEesz4ANxBiAJVDdwPkayoAxAGZB0ldXABBXh8CXY5jATZd7AJXOyYAftU7AOm1HgBWvDAAsh1cAKZ5JAHnWssAJr56ATOXtwCx5TEAQhYTANukegYP2ysAwHIKAPcXAwIocDABPMrYAqhbHwCeAbkB9dj8ADvNPgBcmVYAkcLEAHxpDAjWnUYAIecwAFndFgq9eDEAi7tlAMWKtQGnum0F4b1LApRlogBbKDwAji0MANjnUwGsM4cAmwsDAI4opQHlL7sAeeGaADLCXQAxeUUATh9TAJ2oHgA1JIsAhFqfAr8waQJ/8jYBwVaFAgpKEQCwzYkAZUZzADu4JgGWnGEB+PZFAnXc4APL/1YAYB8QAD7NnAB3yz0E3hq9AS5fnwPrB/MRyJo0ADYFjgEUABUFnFA9AJ/sUgHzOrMAZ9q7AA==",
           "dtype": "i4",
           "shape": "142"
          },
          "bdata": "A5rmAYvwNgDgn/wBfIW9AGf1ZgIAzTcBZx59AN3PCgDTqPcIopKeAOpDewCwJYsABnZFANsCGQAXVVML6rxvALuZ2gBpB4AAkqLXACUGDgE9fv0BjqpCAFc7nABFfPgA2IGZTt7bogIw2QoAJ9LZAyL+OQD8Ez8A4dwSAQCQRACbNa4ACBScANhvUwD2kgcAxjSOACDl0QBfvcgEKORpACFpCABZ3koAj3qPBLzuTwAMEaQDEzMWACfDGQDkVukE+gRdAXJdowAA2b8ApsqXACl2FgAevoEAczFyADyDagAM65cAa5sEAKtNL0J4DlMNAscjBHacowEesz4ANxBiAJVDdwPkayoAxAGZB0ldXABBXh8CXY5jATZd7AJXOyYAftU7AOm1HgBWvDAAsh1cAKZ5JAHnWssAJr56ATOXtwCx5TEAQhYTANukegYP2ysAwHIKAPcXAwIocDABPMrYAqhbHwCeAbkB9dj8ADvNPgBcmVYAkcLEAHxpDAjWnUYAIecwAFndFgq9eDEAi7tlAMWKtQGnum0F4b1LApRlogBbKDwAji0MANjnUwGsM4cAmwsDAI4opQHlL7sAeeGaADLCXQAxeUUATh9TAJ2oHgA1JIsAhFqfAr8waQJ/8jYBwVaFAgpKEQCwzYkAZUZzADu4JgGWnGEB+PZFAnXc4APL/1YAYB8QAD7NnAB3yz0E3hq9AS5fnwPrB/MRyJo0ADYFjgEUABUFnFA9AJ/sUgHzOrMAZ9q7AA==",
          "dtype": "i4"
         }
        }
       ],
       "layout": {
        "autosize": true,
        "template": {
         "data": {
          "bar": [
           {
            "error_x": {
             "color": "#2a3f5f"
            },
            "error_y": {
             "color": "#2a3f5f"
            },
            "marker": {
             "line": {
              "color": "#E5ECF6",
              "width": 0.5
             },
             "pattern": {
              "fillmode": "overlay",
              "size": 10,
              "solidity": 0.2
             }
            },
            "type": "bar"
           }
          ],
          "barpolar": [
           {
            "marker": {
             "line": {
              "color": "#E5ECF6",
              "width": 0.5
             },
             "pattern": {
              "fillmode": "overlay",
              "size": 10,
              "solidity": 0.2
             }
            },
            "type": "barpolar"
           }
          ],
          "carpet": [
           {
            "aaxis": {
             "endlinecolor": "#2a3f5f",
             "gridcolor": "white",
             "linecolor": "white",
             "minorgridcolor": "white",
             "startlinecolor": "#2a3f5f"
            },
            "baxis": {
             "endlinecolor": "#2a3f5f",
             "gridcolor": "white",
             "linecolor": "white",
             "minorgridcolor": "white",
             "startlinecolor": "#2a3f5f"
            },
            "type": "carpet"
           }
          ],
          "choropleth": [
           {
            "colorbar": {
             "outlinewidth": 0,
             "ticks": ""
            },
            "type": "choropleth"
           }
          ],
          "contour": [
           {
            "colorbar": {
             "outlinewidth": 0,
             "ticks": ""
            },
            "colorscale": [
             [
              0,
              "#0d0887"
             ],
             [
              0.1111111111111111,
              "#46039f"
             ],
             [
              0.2222222222222222,
              "#7201a8"
             ],
             [
              0.3333333333333333,
              "#9c179e"
             ],
             [
              0.4444444444444444,
              "#bd3786"
             ],
             [
              0.5555555555555556,
              "#d8576b"
             ],
             [
              0.6666666666666666,
              "#ed7953"
             ],
             [
              0.7777777777777778,
              "#fb9f3a"
             ],
             [
              0.8888888888888888,
              "#fdca26"
             ],
             [
              1,
              "#f0f921"
             ]
            ],
            "type": "contour"
           }
          ],
          "contourcarpet": [
           {
            "colorbar": {
             "outlinewidth": 0,
             "ticks": ""
            },
            "type": "contourcarpet"
           }
          ],
          "heatmap": [
           {
            "colorbar": {
             "outlinewidth": 0,
             "ticks": ""
            },
            "colorscale": [
             [
              0,
              "#0d0887"
             ],
             [
              0.1111111111111111,
              "#46039f"
             ],
             [
              0.2222222222222222,
              "#7201a8"
             ],
             [
              0.3333333333333333,
              "#9c179e"
             ],
             [
              0.4444444444444444,
              "#bd3786"
             ],
             [
              0.5555555555555556,
              "#d8576b"
             ],
             [
              0.6666666666666666,
              "#ed7953"
             ],
             [
              0.7777777777777778,
              "#fb9f3a"
             ],
             [
              0.8888888888888888,
              "#fdca26"
             ],
             [
              1,
              "#f0f921"
             ]
            ],
            "type": "heatmap"
           }
          ],
          "histogram": [
           {
            "marker": {
             "pattern": {
              "fillmode": "overlay",
              "size": 10,
              "solidity": 0.2
             }
            },
            "type": "histogram"
           }
          ],
          "histogram2d": [
           {
            "colorbar": {
             "outlinewidth": 0,
             "ticks": ""
            },
            "colorscale": [
             [
              0,
              "#0d0887"
             ],
             [
              0.1111111111111111,
              "#46039f"
             ],
             [
              0.2222222222222222,
              "#7201a8"
             ],
             [
              0.3333333333333333,
              "#9c179e"
             ],
             [
              0.4444444444444444,
              "#bd3786"
             ],
             [
              0.5555555555555556,
              "#d8576b"
             ],
             [
              0.6666666666666666,
              "#ed7953"
             ],
             [
              0.7777777777777778,
              "#fb9f3a"
             ],
             [
              0.8888888888888888,
              "#fdca26"
             ],
             [
              1,
              "#f0f921"
             ]
            ],
            "type": "histogram2d"
           }
          ],
          "histogram2dcontour": [
           {
            "colorbar": {
             "outlinewidth": 0,
             "ticks": ""
            },
            "colorscale": [
             [
              0,
              "#0d0887"
             ],
             [
              0.1111111111111111,
              "#46039f"
             ],
             [
              0.2222222222222222,
              "#7201a8"
             ],
             [
              0.3333333333333333,
              "#9c179e"
             ],
             [
              0.4444444444444444,
              "#bd3786"
             ],
             [
              0.5555555555555556,
              "#d8576b"
             ],
             [
              0.6666666666666666,
              "#ed7953"
             ],
             [
              0.7777777777777778,
              "#fb9f3a"
             ],
             [
              0.8888888888888888,
              "#fdca26"
             ],
             [
              1,
              "#f0f921"
             ]
            ],
            "type": "histogram2dcontour"
           }
          ],
          "mesh3d": [
           {
            "colorbar": {
             "outlinewidth": 0,
             "ticks": ""
            },
            "type": "mesh3d"
           }
          ],
          "parcoords": [
           {
            "line": {
             "colorbar": {
              "outlinewidth": 0,
              "ticks": ""
             }
            },
            "type": "parcoords"
           }
          ],
          "pie": [
           {
            "automargin": true,
            "type": "pie"
           }
          ],
          "scatter": [
           {
            "fillpattern": {
             "fillmode": "overlay",
             "size": 10,
             "solidity": 0.2
            },
            "type": "scatter"
           }
          ],
          "scatter3d": [
           {
            "line": {
             "colorbar": {
              "outlinewidth": 0,
              "ticks": ""
             }
            },
            "marker": {
             "colorbar": {
              "outlinewidth": 0,
              "ticks": ""
             }
            },
            "type": "scatter3d"
           }
          ],
          "scattercarpet": [
           {
            "marker": {
             "colorbar": {
              "outlinewidth": 0,
              "ticks": ""
             }
            },
            "type": "scattercarpet"
           }
          ],
          "scattergeo": [
           {
            "marker": {
             "colorbar": {
              "outlinewidth": 0,
              "ticks": ""
             }
            },
            "type": "scattergeo"
           }
          ],
          "scattergl": [
           {
            "marker": {
             "colorbar": {
              "outlinewidth": 0,
              "ticks": ""
             }
            },
            "type": "scattergl"
           }
          ],
          "scattermap": [
           {
            "marker": {
             "colorbar": {
              "outlinewidth": 0,
              "ticks": ""
             }
            },
            "type": "scattermap"
           }
          ],
          "scattermapbox": [
           {
            "marker": {
             "colorbar": {
              "outlinewidth": 0,
              "ticks": ""
             }
            },
            "type": "scattermapbox"
           }
          ],
          "scatterpolar": [
           {
            "marker": {
             "colorbar": {
              "outlinewidth": 0,
              "ticks": ""
             }
            },
            "type": "scatterpolar"
           }
          ],
          "scatterpolargl": [
           {
            "marker": {
             "colorbar": {
              "outlinewidth": 0,
              "ticks": ""
             }
            },
            "type": "scatterpolargl"
           }
          ],
          "scatterternary": [
           {
            "marker": {
             "colorbar": {
              "outlinewidth": 0,
              "ticks": ""
             }
            },
            "type": "scatterternary"
           }
          ],
          "surface": [
           {
            "colorbar": {
             "outlinewidth": 0,
             "ticks": ""
            },
            "colorscale": [
             [
              0,
              "#0d0887"
             ],
             [
              0.1111111111111111,
              "#46039f"
             ],
             [
              0.2222222222222222,
              "#7201a8"
             ],
             [
              0.3333333333333333,
              "#9c179e"
             ],
             [
              0.4444444444444444,
              "#bd3786"
             ],
             [
              0.5555555555555556,
              "#d8576b"
             ],
             [
              0.6666666666666666,
              "#ed7953"
             ],
             [
              0.7777777777777778,
              "#fb9f3a"
             ],
             [
              0.8888888888888888,
              "#fdca26"
             ],
             [
              1,
              "#f0f921"
             ]
            ],
            "type": "surface"
           }
          ],
          "table": [
           {
            "cells": {
             "fill": {
              "color": "#EBF0F8"
             },
             "line": {
              "color": "white"
             }
            },
            "header": {
             "fill": {
              "color": "#C8D4E3"
             },
             "line": {
              "color": "white"
             }
            },
            "type": "table"
           }
          ]
         },
         "layout": {
          "annotationdefaults": {
           "arrowcolor": "#2a3f5f",
           "arrowhead": 0,
           "arrowwidth": 1
          },
          "autotypenumbers": "strict",
          "coloraxis": {
           "colorbar": {
            "outlinewidth": 0,
            "ticks": ""
           }
          },
          "colorscale": {
           "diverging": [
            [
             0,
             "#8e0152"
            ],
            [
             0.1,
             "#c51b7d"
            ],
            [
             0.2,
             "#de77ae"
            ],
            [
             0.3,
             "#f1b6da"
            ],
            [
             0.4,
             "#fde0ef"
            ],
            [
             0.5,
             "#f7f7f7"
            ],
            [
             0.6,
             "#e6f5d0"
            ],
            [
             0.7,
             "#b8e186"
            ],
            [
             0.8,
             "#7fbc41"
            ],
            [
             0.9,
             "#4d9221"
            ],
            [
             1,
             "#276419"
            ]
           ],
           "sequential": [
            [
             0,
             "#0d0887"
            ],
            [
             0.1111111111111111,
             "#46039f"
            ],
            [
             0.2222222222222222,
             "#7201a8"
            ],
            [
             0.3333333333333333,
             "#9c179e"
            ],
            [
             0.4444444444444444,
             "#bd3786"
            ],
            [
             0.5555555555555556,
             "#d8576b"
            ],
            [
             0.6666666666666666,
             "#ed7953"
            ],
            [
             0.7777777777777778,
             "#fb9f3a"
            ],
            [
             0.8888888888888888,
             "#fdca26"
            ],
            [
             1,
             "#f0f921"
            ]
           ],
           "sequentialminus": [
            [
             0,
             "#0d0887"
            ],
            [
             0.1111111111111111,
             "#46039f"
            ],
            [
             0.2222222222222222,
             "#7201a8"
            ],
            [
             0.3333333333333333,
             "#9c179e"
            ],
            [
             0.4444444444444444,
             "#bd3786"
            ],
            [
             0.5555555555555556,
             "#d8576b"
            ],
            [
             0.6666666666666666,
             "#ed7953"
            ],
            [
             0.7777777777777778,
             "#fb9f3a"
            ],
            [
             0.8888888888888888,
             "#fdca26"
            ],
            [
             1,
             "#f0f921"
            ]
           ]
          },
          "colorway": [
           "#636efa",
           "#EF553B",
           "#00cc96",
           "#ab63fa",
           "#FFA15A",
           "#19d3f3",
           "#FF6692",
           "#B6E880",
           "#FF97FF",
           "#FECB52"
          ],
          "font": {
           "color": "#2a3f5f"
          },
          "geo": {
           "bgcolor": "white",
           "lakecolor": "white",
           "landcolor": "#E5ECF6",
           "showlakes": true,
           "showland": true,
           "subunitcolor": "white"
          },
          "hoverlabel": {
           "align": "left"
          },
          "hovermode": "closest",
          "mapbox": {
           "style": "light"
          },
          "paper_bgcolor": "white",
          "plot_bgcolor": "#E5ECF6",
          "polar": {
           "angularaxis": {
            "gridcolor": "white",
            "linecolor": "white",
            "ticks": ""
           },
           "bgcolor": "#E5ECF6",
           "radialaxis": {
            "gridcolor": "white",
            "linecolor": "white",
            "ticks": ""
           }
          },
          "scene": {
           "xaxis": {
            "backgroundcolor": "#E5ECF6",
            "gridcolor": "white",
            "gridwidth": 2,
            "linecolor": "white",
            "showbackground": true,
            "ticks": "",
            "zerolinecolor": "white"
           },
           "yaxis": {
            "backgroundcolor": "#E5ECF6",
            "gridcolor": "white",
            "gridwidth": 2,
            "linecolor": "white",
            "showbackground": true,
            "ticks": "",
            "zerolinecolor": "white"
           },
           "zaxis": {
            "backgroundcolor": "#E5ECF6",
            "gridcolor": "white",
            "gridwidth": 2,
            "linecolor": "white",
            "showbackground": true,
            "ticks": "",
            "zerolinecolor": "white"
           }
          },
          "shapedefaults": {
           "line": {
            "color": "#2a3f5f"
           }
          },
          "ternary": {
           "aaxis": {
            "gridcolor": "white",
            "linecolor": "white",
            "ticks": ""
           },
           "baxis": {
            "gridcolor": "white",
            "linecolor": "white",
            "ticks": ""
           },
           "bgcolor": "#E5ECF6",
           "caxis": {
            "gridcolor": "white",
            "linecolor": "white",
            "ticks": ""
           }
          },
          "title": {
           "x": 0.05
          },
          "xaxis": {
           "automargin": true,
           "gridcolor": "white",
           "linecolor": "white",
           "ticks": "",
           "title": {
            "standoff": 15
           },
           "zerolinecolor": "white",
           "zerolinewidth": 2
          },
          "yaxis": {
           "automargin": true,
           "gridcolor": "white",
           "linecolor": "white",
           "ticks": "",
           "title": {
            "standoff": 15
           },
           "zerolinecolor": "white",
           "zerolinewidth": 2
          }
         }
        },
        "title": {
         "text": "Life exp vs gdp per cap for 2007"
        },
        "xaxis": {
         "autorange": true,
         "range": [
          -52.455851767819986,
          950.45585176782
         ],
         "title": {
          "text": "life exp"
         },
         "type": "linear"
        },
        "yaxis": {
         "autorange": true,
         "range": [
          -108823061.8346384,
          1427506435.386497
         ],
         "title": {
          "text": "gdp per cap"
         },
         "type": "linear"
        }
       }
      },
      "image/png": "[encoded data removed]"
     },
     "metadata": {},
     "output_type": "display_data"
    }
   ],
   "source": [
    "trace1=go.Scatter(x=temp_df['lifeExp'],y=temp_df[\"gdpPercap\"],mode=\"markers\")\n",
    "trace2=go.Scatter(x=temp_df['iso_num'],y=temp_df[\"pop\"],mode=\"markers\")\n",
    "\n",
    "data=[trace1,trace2]\n",
    "\n",
    "layout=go.Layout(title='Life exp vs gdp per cap for 2007',xaxis={\"title\":\"life exp\"},yaxis={'title':\"gdp per cap\"})\n",
    "\n",
    "fig=go.Figure(data,layout)\n",
    "\n",
    "fig.show()"
   ]
  },
  {
   "cell_type": "markdown",
   "id": "66550f1d-393a-41fd-8c7d-76b3b29d930b",
   "metadata": {},
   "source": [
    "# plotly express"
   ]
  },
  {
   "cell_type": "code",
   "execution_count": 20,
   "id": "19aecb12-a65c-495b-81fd-7f4a546c75ef",
   "metadata": {},
   "outputs": [
    {
     "data": {
      "application/vnd.plotly.v1+json": {
       "config": {
        "plotlyServerURL": "https://plot.ly"
       },
       "data": [
        {
         "hovertemplate": "continent=Asia<br>lifeExp=%{x}<br>gdpPercap=%{y}<br>pop=%{marker.size}<extra></extra>",
         "legendgroup": "Asia",
         "marker": {
          "color": "#636efa",
          "size": {
           "_inputArray": {
            "0": 31889923,
            "1": 708573,
            "10": 6426679,
            "11": 127467972,
            "12": 6053193,
            "13": 23301725,
            "14": 49044790,
            "15": 2505559,
            "16": 3921278,
            "17": 24821286,
            "18": 2874127,
            "19": 47761980,
            "2": 150448339,
            "20": 28901790,
            "21": 3204897,
            "22": 169270617,
            "23": 91077287,
            "24": 27601038,
            "25": 4553009,
            "26": 20378239,
            "27": 19314747,
            "28": 23174294,
            "29": 65068149,
            "3": 14131858,
            "30": 85262356,
            "31": 4018332,
            "32": 22211743,
            "4": 1318683096,
            "5": 6980412,
            "6": 1110396331,
            "7": 223547000,
            "8": 69453570,
            "9": 27499638,
            "bdata": "A5rmAd3PCgDTqPcIkqLXANiBmU48g2oAq00vQngOUw0CxyMEdpyjATcQYgDEAZkHSV1cAF2OYwE2XewCVzsmAH7VOwAmvnoBD9srADzK2AKeAbkBIecwAFndFgqnum0FjiilATF5RQB/8jYBO7gmAZacYQF13OADFAAVBZxQPQCf7FIB",
            "dtype": "i4",
            "shape": "33"
           },
           "bdata": "A5rmAd3PCgDTqPcIkqLXANiBmU48g2oAq00vQngOUw0CxyMEdpyjATcQYgDEAZkHSV1cAF2OYwE2XewCVzsmAH7VOwAmvnoBD9srADzK2AKeAbkBIecwAFndFgqnum0FjiilATF5RQB/8jYBO7gmAZacYQF13OADFAAVBZxQPQCf7FIB",
           "dtype": "i4"
          },
          "sizemode": "area",
          "sizeref": 3296707.74,
          "symbol": "circle"
         },
         "mode": "markers",
         "name": "Asia",
         "orientation": "v",
         "showlegend": true,
         "type": "scatter",
         "x": {
          "_inputArray": {
           "0": 43.828,
           "1": 75.635,
           "10": 80.745,
           "11": 82.603,
           "12": 72.535,
           "13": 67.297,
           "14": 78.623,
           "15": 77.58800000000002,
           "16": 71.993,
           "17": 74.241,
           "18": 66.803,
           "19": 62.069,
           "2": 64.062,
           "20": 63.785,
           "21": 75.64,
           "22": 65.483,
           "23": 71.688,
           "24": 72.777,
           "25": 79.972,
           "26": 72.396,
           "27": 74.143,
           "28": 78.4,
           "29": 70.616,
           "3": 59.723,
           "30": 74.249,
           "31": 73.422,
           "32": 62.698,
           "4": 72.961,
           "5": 82.208,
           "6": 64.69800000000001,
           "7": 70.65,
           "8": 70.964,
           "9": 59.545,
           "bdata": "RIts5/vpRUBxPQrXo+hSQIcW2c73A1BABoGVQ4vcTUAv3SQGgT1SQFpkO99PjVRA6iYxCKwsUECamZmZmalRQARWDi2yvVFA9ihcj8LFTUBI4XoUri9UQDvfT42XplRACtejcD0iUkBeukkMAtNQQB1aZDvfp1NAFIPAyqFlU0BkO99Pjf9RQIGVQ4tsj1JACKwcWmSzUEBGtvP91AhPQBSuR+F65E9AKVyPwvXoUkD0/dR46V5QQHnpJjEI7FFAfT81XroxUkCR7Xw/Nf5TQNNNYhBYGVJA/tR46SaJUkCamZmZmZlTQIGVQ4tsp1FADi2yne+PUkBeukkMAltSQNNNYhBYWU9A",
           "dtype": "f8",
           "shape": "33"
          },
          "bdata": "RIts5/vpRUBxPQrXo+hSQIcW2c73A1BABoGVQ4vcTUAv3SQGgT1SQFpkO99PjVRA6iYxCKwsUECamZmZmalRQARWDi2yvVFA9ihcj8LFTUBI4XoUri9UQDvfT42XplRACtejcD0iUkBeukkMAtNQQB1aZDvfp1NAFIPAyqFlU0BkO99Pjf9RQIGVQ4tsj1JACKwcWmSzUEBGtvP91AhPQBSuR+F65E9AKVyPwvXoUkD0/dR46V5QQHnpJjEI7FFAfT81XroxUkCR7Xw/Nf5TQNNNYhBYGVJA/tR46SaJUkCamZmZmZlTQIGVQ4tsp1FADi2yne+PUkBeukkMAltSQNNNYhBYWU9A",
          "dtype": "f8"
         },
         "xaxis": "x",
         "y": {
          "_inputArray": {
           "0": 974.5803384,
           "1": 29796.04834,
           "10": 25523.2771,
           "11": 31656.06806,
           "12": 4519.461171,
           "13": 1593.06548,
           "14": 23348.139730000006,
           "15": 47306.98978,
           "16": 10461.05868,
           "17": 12451.6558,
           "18": 3095.7722710000007,
           "19": 944,
           "2": 1391.253792,
           "20": 1091.359778,
           "21": 22316.19287,
           "22": 2605.94758,
           "23": 3190.481016,
           "24": 21654.83194,
           "25": 47143.17964,
           "26": 3970.095407,
           "27": 4184.548089,
           "28": 28718.27684,
           "29": 7458.396326999998,
           "3": 1713.778686,
           "30": 2441.576404,
           "31": 3025.349798,
           "32": 2280.769906,
           "4": 4959.114854,
           "5": 39724.97867,
           "6": 2452.210407,
           "7": 3540.651564,
           "8": 11605.71449,
           "9": 4471.061906,
           "bdata": "54R1iKR0jkDGpwAYAxndQPLPDOIDvZVAat/cXx3HmkDRXRJnHV+zQHK/Q1GfZeNAs193umsoo0CA7suZTamrQKmHaHTbqsZAbVUS2Q93sUBuowG80ezYQItUGFsE6t5A3XpND3ansUArajANQ+SYQBMZVvEIzdZASBtHrF8Z50B3hNOCh27EQFwgQfHTUchATsEaZ4svqEAAAAAAAICNQEjfpGlwDZFAmGn7VwzL1UCwrDQp5VukQLWpukf27KhAD0WBPrUl1UCiYpy/5QTnQJ6xL9kwBK9ATIqPT4xYsECOHr+3kQvcQIOvr3VlIr1AkdJsHicTo0BqNLkYs6KnQP2FHjGK0aFA",
           "dtype": "f8",
           "shape": "33"
          },
          "bdata": "54R1iKR0jkDGpwAYAxndQPLPDOIDvZVAat/cXx3HmkDRXRJnHV+zQHK/Q1GfZeNAs193umsoo0CA7suZTamrQKmHaHTbqsZAbVUS2Q93sUBuowG80ezYQItUGFsE6t5A3XpND3ansUArajANQ+SYQBMZVvEIzdZASBtHrF8Z50B3hNOCh27EQFwgQfHTUchATsEaZ4svqEAAAAAAAICNQEjfpGlwDZFAmGn7VwzL1UCwrDQp5VukQLWpukf27KhAD0WBPrUl1UCiYpy/5QTnQJ6xL9kwBK9ATIqPT4xYsECOHr+3kQvcQIOvr3VlIr1AkdJsHicTo0BqNLkYs6KnQP2FHjGK0aFA",
          "dtype": "f8"
         },
         "yaxis": "y"
        },
        {
         "hovertemplate": "continent=Europe<br>lifeExp=%{x}<br>gdpPercap=%{y}<br>pop=%{marker.size}<extra></extra>",
         "legendgroup": "Europe",
         "marker": {
          "color": "#EF553B",
          "size": {
           "_inputArray": {
            "0": 3600523,
            "1": 8199783,
            "10": 82400996,
            "11": 10706290,
            "12": 9956108,
            "13": 301931,
            "14": 4109086,
            "15": 58147733,
            "16": 684736,
            "17": 16570613,
            "18": 4627926,
            "19": 38518241,
            "2": 10392226,
            "20": 10642836,
            "21": 22276056,
            "22": 10150265,
            "23": 5447502,
            "24": 2009245,
            "25": 40448191,
            "26": 9031088,
            "27": 7554661,
            "28": 71158647,
            "29": 60776238,
            "3": 4552198,
            "4": 7322858,
            "5": 4493312,
            "6": 10228744,
            "7": 5468120,
            "8": 5238460,
            "9": 61083916,
            "bdata": "i/A2AGcefQCikp4ABnZFAOq8bwAAkEQACBScANhvUwC87k8ADBGkA+RW6QRyXaMADOuXAGubBAAesz4AlUN3A8ByCgD12PwA1p1GAOG9SwKUZaIA2OdTAXnhmgBOH1MAnageAL8waQKwzYkAZUZzAHfLPQQuX58D",
            "dtype": "i4",
            "shape": "30"
           },
           "bdata": "i/A2AGcefQCikp4ABnZFAOq8bwAAkEQACBScANhvUwC87k8ADBGkA+RW6QRyXaMADOuXAGubBAAesz4AlUN3A8ByCgD12PwA1p1GAOG9SwKUZaIA2OdTAXnhmgBOH1MAnageAL8waQKwzYkAZUZzAHfLPQQuX58D",
           "dtype": "i4"
          },
          "sizemode": "area",
          "sizeref": 3296707.74,
          "symbol": "circle"
         },
         "mode": "markers",
         "name": "Europe",
         "orientation": "v",
         "showlegend": true,
         "type": "scatter",
         "x": {
          "_inputArray": {
           "0": 76.423,
           "1": 79.829,
           "10": 79.406,
           "11": 79.483,
           "12": 73.33800000000002,
           "13": 81.757,
           "14": 78.885,
           "15": 80.546,
           "16": 74.543,
           "17": 79.762,
           "18": 80.196,
           "19": 75.563,
           "2": 79.441,
           "20": 78.098,
           "21": 72.476,
           "22": 74.002,
           "23": 74.663,
           "24": 77.926,
           "25": 80.941,
           "26": 80.884,
           "27": 81.70100000000002,
           "28": 71.777,
           "29": 79.425,
           "3": 74.852,
           "4": 73.005,
           "5": 75.748,
           "6": 76.486,
           "7": 78.332,
           "8": 79.313,
           "9": 80.657,
           "bdata": "UI2XbhIbU0CTGARWDvVTQE5iEFg53FNASgwCK4e2UkC4HoXrUUBSQB1aZDvf71JAyXa+nxofU0Boke18P5VTQHnpJjEI1FNANV66SQwqVEBEi2zn+9lTQPT91Hjp3lNAFIPAyqFVUkCcxCCwcnBUQHE9CtejuFNAbef7qfEiVECYbhKDwKJSQFTjpZvE8FNABoGVQ4sMVEB56SYxCORSQIPAyqFFhlNAWDm0yHYeUkDjpZvEIIBSQN9PjZduqlJAJQaBlUN7U0BOYhBYOTxUQH9qvHSTOFRAwJ8aL91sVEB9PzVeuvFRQDMzMzMz21NA",
           "dtype": "f8",
           "shape": "30"
          },
          "bdata": "UI2XbhIbU0CTGARWDvVTQE5iEFg53FNASgwCK4e2UkC4HoXrUUBSQB1aZDvf71JAyXa+nxofU0Boke18P5VTQHnpJjEI1FNANV66SQwqVEBEi2zn+9lTQPT91Hjp3lNAFIPAyqFVUkCcxCCwcnBUQHE9CtejuFNAbef7qfEiVECYbhKDwKJSQFTjpZvE8FNABoGVQ4sMVEB56SYxCORSQIPAyqFFhlNAWDm0yHYeUkDjpZvEIIBSQN9PjZduqlJAJQaBlUN7U0BOYhBYOTxUQH9qvHSTOFRAwJ8aL91sVEB9PzVeuvFRQDMzMzMz21NA",
          "dtype": "f8"
         },
         "xaxis": "x",
         "y": {
          "_inputArray": {
           "0": 5937.029525999998,
           "1": 36126.4927,
           "10": 32170.37442,
           "11": 27538.41188,
           "12": 18008.94444,
           "13": 36180.78919,
           "14": 40675.99635,
           "15": 28569.7197,
           "16": 9253.896111,
           "17": 36797.93332,
           "18": 49357.19017,
           "19": 15389.924680000002,
           "2": 33692.60508,
           "20": 20509.64777,
           "21": 10808.47561,
           "22": 9786.534714,
           "23": 18678.31435,
           "24": 25768.25759,
           "25": 28821.0637,
           "26": 33859.74835,
           "27": 37506.41907,
           "28": 8458.276384,
           "29": 33203.26128,
           "3": 7446.298803,
           "4": 10680.79282,
           "5": 14619.222719999998,
           "6": 22833.30851,
           "7": 35278.41874,
           "8": 33207.0844,
           "9": 30470.0167,
           "bdata": "YBQEjwcxt0BYyjLEz6PhQG+70FyTc+BA8nhafkwWvUDPMSB7ZdzEQBTGFoKcjcxAH7qgvlNM1kCxbVFmzTnhQPmgZ7PiNuBAduCcEYHB3UC+TX/2l2rfQHjuPVya5NpAQni0cTyW0UALYwtBmarhQCxlGeJ/3ONAvJaQD27m20BL58Oz8hLCQJbnwd299+FAVmXfFaYZ6ECjC+pb9g7OQFVNEHVpB9RA09nJ4DwcxUBbI4JxRB3DQGB2Tx6UPdJAcsRafBAq2UAwKqkTRCXcQP+ye/J3iOBAGH0FaU1Q4kCSCI1gI4XAQOPfZ1xoNuBA",
           "dtype": "f8",
           "shape": "30"
          },
          "bdata": "YBQEjwcxt0BYyjLEz6PhQG+70FyTc+BA8nhafkwWvUDPMSB7ZdzEQBTGFoKcjcxAH7qgvlNM1kCxbVFmzTnhQPmgZ7PiNuBAduCcEYHB3UC+TX/2l2rfQHjuPVya5NpAQni0cTyW0UALYwtBmarhQCxlGeJ/3ONAvJaQD27m20BL58Oz8hLCQJbnwd299+FAVmXfFaYZ6ECjC+pb9g7OQFVNEHVpB9RA09nJ4DwcxUBbI4JxRB3DQGB2Tx6UPdJAcsRafBAq2UAwKqkTRCXcQP+ye/J3iOBAGH0FaU1Q4kCSCI1gI4XAQOPfZ1xoNuBA",
          "dtype": "f8"
         },
         "yaxis": "y"
        },
        {
         "hovertemplate": "continent=Africa<br>lifeExp=%{x}<br>gdpPercap=%{y}<br>pop=%{marker.size}<extra></extra>",
         "legendgroup": "Africa",
         "marker": {
          "color": "#00cc96",
          "size": {
           "_inputArray": {
            "0": 33333216,
            "1": 12420476,
            "10": 64606759,
            "11": 3800610,
            "12": 18013409,
            "13": 496374,
            "14": 80264543,
            "15": 551201,
            "16": 4906585,
            "17": 76511887,
            "18": 1454867,
            "19": 1688359,
            "2": 8078314,
            "20": 22873338,
            "21": 9947814,
            "22": 1472041,
            "23": 35610177,
            "24": 2012649,
            "25": 3193942,
            "26": 6036914,
            "27": 19167654,
            "28": 13327079,
            "29": 12031795,
            "3": 1639131,
            "30": 3270065,
            "31": 1250882,
            "32": 33757175,
            "33": 19951656,
            "34": 2055080,
            "35": 12894865,
            "36": 135031164,
            "37": 798094,
            "38": 8860588,
            "39": 199579,
            "4": 14326203,
            "40": 12267493,
            "41": 6144562,
            "42": 9118773,
            "43": 43997828,
            "44": 42292929,
            "45": 1133066,
            "46": 38139640,
            "47": 5701579,
            "48": 10276158,
            "49": 29170398,
            "5": 8390505,
            "50": 11746035,
            "51": 12311143,
            "6": 17696293,
            "7": 4369038,
            "8": 10238807,
            "9": 710960,
            "bdata": "4J/8AXyFvQDqQ3sA2wIZALuZ2gBpB4AAJQYOAY6qQgBXO5wAMNkKACfS2QMi/jkA4dwSAfaSBwBfvcgEIWkIAFneSgCPeo8EEzMWACfDGQD6BF0BpsqXACl2FgBBXh8C6bUeAFa8MACyHVwApnkkAedaywAzl7cAseUxAEIWEwD3FwMCKHAwAahbHwCRwsQAfGkMCI4tDACsM4cAmwsDAOUvuwAywl0ANSSLAIRanwLBVoUCCkoRAPj2RQLL/1YAPs2cAN4avQHzOrMAZ9q7AA==",
            "dtype": "i4",
            "shape": "52"
           },
           "bdata": "4J/8AXyFvQDqQ3sA2wIZALuZ2gBpB4AAJQYOAY6qQgBXO5wAMNkKACfS2QMi/jkA4dwSAfaSBwBfvcgEIWkIAFneSgCPeo8EEzMWACfDGQD6BF0BpsqXACl2FgBBXh8C6bUeAFa8MACyHVwApnkkAedaywAzl7cAseUxAEIWEwD3FwMCKHAwAahbHwCRwsQAfGkMCI4tDACsM4cAmwsDAOUvuwAywl0ANSSLAIRanwLBVoUCCkoRAPj2RQLL/1YAPs2cAN4avQHzOrMAZ9q7AA==",
           "dtype": "i4"
          },
          "sizemode": "area",
          "sizeref": 3296707.74,
          "symbol": "circle"
         },
         "mode": "markers",
         "name": "Africa",
         "orientation": "v",
         "showlegend": true,
         "type": "scatter",
         "x": {
          "_inputArray": {
           "0": 72.301,
           "1": 42.731,
           "10": 46.462,
           "11": 55.322,
           "12": 48.328,
           "13": 54.791,
           "14": 71.33800000000002,
           "15": 51.57899999999999,
           "16": 58.04,
           "17": 52.947,
           "18": 56.735,
           "19": 59.448,
           "2": 56.728,
           "20": 60.022,
           "21": 56.007,
           "22": 46.38800000000001,
           "23": 54.11,
           "24": 42.592,
           "25": 45.678,
           "26": 73.952,
           "27": 59.44300000000001,
           "28": 48.303,
           "29": 54.467,
           "3": 50.728,
           "30": 64.164,
           "31": 72.801,
           "32": 71.164,
           "33": 42.082,
           "34": 52.90600000000001,
           "35": 56.867,
           "36": 46.859,
           "37": 76.442,
           "38": 46.242,
           "39": 65.528,
           "4": 52.295,
           "40": 63.062,
           "41": 42.56800000000001,
           "42": 48.159,
           "43": 49.339,
           "44": 58.556,
           "45": 39.613,
           "46": 52.517,
           "47": 58.42,
           "48": 73.923,
           "49": 51.542,
           "5": 49.58,
           "50": 42.38399999999999,
           "51": 43.487,
           "6": 50.43,
           "7": 44.74100000000001,
           "8": 50.651,
           "9": 65.152,
           "bdata": "JQaBlUMTUkAhsHJokV1FQHe+nxovXUxAd76fGi9dSUD2KFyPwiVKQArXo3A9ykhA16NwPQo3SUADK4cW2V5GQBfZzvdTU0lAfT81XrpJUEBCYOXQIjtHQPCnxks3qUtARIts5/spSEBoke18P2VLQBSDwMqh1VFAJjEIrBzKSUCF61G4HgVNQPCnxks3eUpArkfhehReTEDTTWIQWLlNQIlBYOXQAk5AN4lBYOUATECNbOf7qTFHQK5H4XoUDktAsp3vp8ZLRUAQWDm0yNZGQLByaJHtfFJAZBBYObS4TUAQWDm0yCZIQLKd76fGO0tA0SLb+X4KUEAlBoGVQzNSQNEi2/l+ylFA0SLb+X4KRUCJFtnO93NKQOXQItv5bkxAy6FFtvNtR0A/NV66SRxTQOXQItv5HkdAbxKDwMphUEAOLbKd74dPQGQQWDm0SEVAMQisHFoUSEAIrBxaZKtIQLpJDAIrR01AWDm0yHbOQ0AZBFYOLUJKQPYoXI/CNU1AUI2XbhJ7UkBMN4lBYMVJQP3UeOkmMUVAdZMYBFa+RUA=",
           "dtype": "f8",
           "shape": "52"
          },
          "bdata": "JQaBlUMTUkAhsHJokV1FQHe+nxovXUxAd76fGi9dSUD2KFyPwiVKQArXo3A9ykhA16NwPQo3SUADK4cW2V5GQBfZzvdTU0lAfT81XrpJUEBCYOXQIjtHQPCnxks3qUtARIts5/spSEBoke18P2VLQBSDwMqh1VFAJjEIrBzKSUCF61G4HgVNQPCnxks3eUpArkfhehReTEDTTWIQWLlNQIlBYOXQAk5AN4lBYOUATECNbOf7qTFHQK5H4XoUDktAsp3vp8ZLRUAQWDm0yNZGQLByaJHtfFJAZBBYObS4TUAQWDm0yCZIQLKd76fGO0tA0SLb+X4KUEAlBoGVQzNSQNEi2/l+ylFA0SLb+X4KRUCJFtnO93NKQOXQItv5bkxAy6FFtvNtR0A/NV66SRxTQOXQItv5HkdAbxKDwMphUEAOLbKd74dPQGQQWDm0SEVAMQisHFoUSEAIrBxaZKtIQLpJDAIrR01AWDm0yHbOQ0AZBFYOLUJKQPYoXI/CNU1AUI2XbhJ7UkBMN4lBYMVJQP3UeOkmMUVAdZMYBFa+RUA=",
          "dtype": "f8"
         },
         "xaxis": "x",
         "y": {
          "_inputArray": {
           "0": 6223.367465,
           "1": 4797.231267,
           "10": 277.5518587,
           "11": 3632.557798,
           "12": 1544.750112,
           "13": 2082.4815670000007,
           "14": 5581.180998,
           "15": 12154.08975,
           "16": 641.3695236000002,
           "17": 690.8055759,
           "18": 13206.48452,
           "19": 752.7497265,
           "2": 1441.284873,
           "20": 1327.60891,
           "21": 942.6542111,
           "22": 579.2317429999998,
           "23": 1463.249282,
           "24": 1569.331442,
           "25": 414.5073415,
           "26": 12057.49928,
           "27": 1044.770126,
           "28": 759.3499101,
           "29": 1042.581557,
           "3": 12569.85177,
           "30": 1803.151496,
           "31": 10956.99112,
           "32": 3820.17523,
           "33": 823.6856205,
           "34": 4811.060429,
           "35": 619.6768923999998,
           "36": 2013.977305,
           "37": 7670.122558,
           "38": 863.0884639000002,
           "39": 1598.435089,
           "4": 1217.032994,
           "40": 1712.472136,
           "41": 862.5407561000002,
           "42": 926.1410683,
           "43": 9269.657808,
           "44": 2602.394995,
           "45": 4513.480643,
           "46": 1107.482182,
           "47": 882.9699437999999,
           "48": 7092.923025,
           "49": 1056.380121,
           "5": 430.0706916,
           "50": 1271.211593,
           "51": 469.70929810000007,
           "6": 2042.09524,
           "7": 706.016537,
           "8": 1704.063724,
           "9": 986.1478792,
           "bdata": "ba0vEl5PuEClaVA0O72yQA5qv7UjhZZA26LMBu2MyEDb2y3JIQSTQKHhg40h4XpAFjWYhmHon0BkkSbeIRCGQOI/3UBBoJpAEj5K2y7RjkA2yMlp1FhxQIwPs5cdYaxAWTFcHQAjmECsJ/OP9kSgQKSK4lUuzbVAaJHtfAu9x0DPCMrI9AqEQJEHx9FxloVAIVnABD7LyUCOc5tw/4WHQNRgGoZvvpRAcXkH0zt1jUCc8BKc2hmCQO3Vx0P/3JZAFRqIZVOFmEB15h4SHuh5QMYzaOi/jMdAMv/omxRTkEBSoKqdzLqHQAqfrYNTSpBA5nXEIZssnEA1KQXdfmbFQI4ev7dZ2K1AvceZJny9iUC7YkZ4D8uyQEgHkEZqXYNA3lSkwuh3n0DdCfZfH/a9QAWrjyy1+IpAZof4h735mEAPnZ5348GaQOgk73dT9IpABbhq6CDxjECGcw0z1BrCQCveyDzKVKRADW5rC3uhsUDhQh7B7U2RQKkf5XHCl4tAZMxdS+y0u0AXfnA+hYGQQEDc1avY3JNA2On2SFlbfUA=",
           "dtype": "f8",
           "shape": "52"
          },
          "bdata": "ba0vEl5PuEClaVA0O72yQA5qv7UjhZZA26LMBu2MyEDb2y3JIQSTQKHhg40h4XpAFjWYhmHon0BkkSbeIRCGQOI/3UBBoJpAEj5K2y7RjkA2yMlp1FhxQIwPs5cdYaxAWTFcHQAjmECsJ/OP9kSgQKSK4lUuzbVAaJHtfAu9x0DPCMrI9AqEQJEHx9FxloVAIVnABD7LyUCOc5tw/4WHQNRgGoZvvpRAcXkH0zt1jUCc8BKc2hmCQO3Vx0P/3JZAFRqIZVOFmEB15h4SHuh5QMYzaOi/jMdAMv/omxRTkEBSoKqdzLqHQAqfrYNTSpBA5nXEIZssnEA1KQXdfmbFQI4ev7dZ2K1AvceZJny9iUC7YkZ4D8uyQEgHkEZqXYNA3lSkwuh3n0DdCfZfH/a9QAWrjyy1+IpAZof4h735mEAPnZ5348GaQOgk73dT9IpABbhq6CDxjECGcw0z1BrCQCveyDzKVKRADW5rC3uhsUDhQh7B7U2RQKkf5XHCl4tAZMxdS+y0u0AXfnA+hYGQQEDc1avY3JNA2On2SFlbfUA=",
          "dtype": "f8"
         },
         "yaxis": "y"
        },
        {
         "hovertemplate": "continent=Americas<br>lifeExp=%{x}<br>gdpPercap=%{y}<br>pop=%{marker.size}<extra></extra>",
         "legendgroup": "Americas",
         "marker": {
          "color": "#ab63fa",
          "size": {
           "_inputArray": {
            "0": 40301927,
            "1": 9119152,
            "10": 6939688,
            "11": 12572928,
            "12": 8502814,
            "13": 7483763,
            "14": 2780132,
            "15": 108700891,
            "16": 5675356,
            "17": 3242173,
            "18": 6667147,
            "19": 28674757,
            "2": 190010647,
            "20": 3942491,
            "21": 1056608,
            "22": 301139947,
            "23": 3447496,
            "24": 26084662,
            "3": 33390141,
            "4": 16284741,
            "5": 44227550,
            "6": 4133884,
            "7": 11416987,
            "8": 9319622,
            "9": 13755680,
            "bdata": "Z/VmArAliwAXVVMLPX79AUV8+ADe26IC/BM/AJs1rgDGNI4AIOXRACjkaQAA2b8AHr6BAHMxcgDkayoA26R6BlyZVgC9eDEAi7tlAMWKtQFbKDwAYB8QAOsH8xHImjQANgWOAQ==",
            "dtype": "i4",
            "shape": "25"
           },
           "bdata": "Z/VmArAliwAXVVMLPX79AUV8+ADe26IC/BM/AJs1rgDGNI4AIOXRACjkaQAA2b8AHr6BAHMxcgDkayoA26R6BlyZVgC9eDEAi7tlAMWKtQFbKDwAYB8QAOsH8xHImjQANgWOAQ==",
           "dtype": "i4"
          },
          "sizemode": "area",
          "sizeref": 3296707.74,
          "symbol": "circle"
         },
         "mode": "markers",
         "name": "Americas",
         "orientation": "v",
         "showlegend": true,
         "type": "scatter",
         "x": {
          "_inputArray": {
           "0": 75.32,
           "1": 65.554,
           "10": 71.878,
           "11": 70.259,
           "12": 60.916,
           "13": 70.19800000000001,
           "14": 72.567,
           "15": 76.195,
           "16": 72.899,
           "17": 75.53699999999998,
           "18": 71.752,
           "19": 71.421,
           "2": 72.39,
           "20": 78.74600000000002,
           "21": 69.819,
           "22": 78.242,
           "23": 76.384,
           "24": 73.747,
           "3": 80.653,
           "4": 78.553,
           "5": 72.889,
           "6": 78.782,
           "7": 78.273,
           "8": 72.235,
           "9": 74.994,
           "bdata": "FK5H4XrUUkD6fmq8dGNQQClcj8L1GFJAbxKDwMopVEAIrBxaZKNTQDeJQWDlOFJANV66SQyyU0C28/3UeJFTQNejcD0KD1JAVg4tsp2/UkDVeOkmMfhRQH9qvHSTkFFAaJHtfD91TkDqJjEIrIxRQD81XrpJJFJAFK5H4XoMU0Coxks3iTlSQOx8PzVe4lJA46WbxCDwUUBt5/up8dpRQDu0yHa+r1NAI9v5fmp0UUBzaJHtfI9TQH9qvHSTGFNAK4cW2c5vUkA=",
           "dtype": "f8",
           "shape": "25"
          },
          "bdata": "FK5H4XrUUkD6fmq8dGNQQClcj8L1GFJAbxKDwMopVEAIrBxaZKNTQDeJQWDlOFJANV66SQyyU0C28/3UeJFTQNejcD0KD1JAVg4tsp2/UkDVeOkmMfhRQH9qvHSTkFFAaJHtfD91TkDqJjEIrIxRQD81XrpJJFJAFK5H4XoMU0Coxks3iTlSQOx8PzVe4lJA46WbxCDwUUBt5/up8dpRQDu0yHa+r1NAI9v5fmp0UUBzaJHtfI9TQH9qvHSTGFNAK4cW2c5vUkA=",
          "dtype": "f8"
         },
         "xaxis": "x",
         "y": {
          "_inputArray": {
           "0": 12779.37964,
           "1": 3822.137084,
           "10": 5728.353514,
           "11": 5186.050003,
           "12": 1201.637154,
           "13": 3548.3308460000007,
           "14": 7320.8802620000015,
           "15": 11977.57496,
           "16": 2749.320965,
           "17": 9809.185636,
           "18": 4172.838464,
           "19": 7408.905561,
           "2": 9065.800825,
           "20": 19328.70901,
           "21": 18008.50924,
           "22": 42951.65309,
           "23": 10611.46299,
           "24": 11415.80569,
           "3": 36319.23501,
           "4": 13171.63885,
           "5": 7006.580419,
           "6": 9645.06142,
           "7": 8948.102923,
           "8": 6025.3747520000015,
           "9": 6873.262326000001,
           "bdata": "ICQLmLD1yECcwd8vRtytQGkAb4HmtMFAB7Ezhee74UCGONbF0bnJQPruVpaUXrtAqU2c3IfWwkCBs5QsDXrBQB5Av+9fibdA5fbLJ0PZukCuvOR/WmC2QLQh/8wMQrRAECIZcozGkkAInKVkqbirQOu12VjhmLxAQQ5KmMlkx0BSRIZVpHqlQHui68KXKMNA4KKTpdZMsECIf9jS5/C8QKJ6a2At4NJAdF5jlyCW0UDr/xzm9PjkQDCeQUO7ucRAW5TZIOdLxkA=",
           "dtype": "f8",
           "shape": "25"
          },
          "bdata": "ICQLmLD1yECcwd8vRtytQGkAb4HmtMFAB7Ezhee74UCGONbF0bnJQPruVpaUXrtAqU2c3IfWwkCBs5QsDXrBQB5Av+9fibdA5fbLJ0PZukCuvOR/WmC2QLQh/8wMQrRAECIZcozGkkAInKVkqbirQOu12VjhmLxAQQ5KmMlkx0BSRIZVpHqlQHui68KXKMNA4KKTpdZMsECIf9jS5/C8QKJ6a2At4NJAdF5jlyCW0UDr/xzm9PjkQDCeQUO7ucRAW5TZIOdLxkA=",
          "dtype": "f8"
         },
         "yaxis": "y"
        },
        {
         "hovertemplate": "continent=Oceania<br>lifeExp=%{x}<br>gdpPercap=%{y}<br>pop=%{marker.size}<extra></extra>",
         "legendgroup": "Oceania",
         "marker": {
          "color": "#FFA15A",
          "size": {
           "_inputArray": {
            "0": 20434176,
            "1": 4115771,
            "bdata": "AM03ATvNPgA=",
            "dtype": "i4",
            "shape": "2"
           },
           "bdata": "AM03ATvNPgA=",
           "dtype": "i4"
          },
          "sizemode": "area",
          "sizeref": 3296707.74,
          "symbol": "circle"
         },
         "mode": "markers",
         "name": "Oceania",
         "orientation": "v",
         "showlegend": true,
         "type": "scatter",
         "x": {
          "_inputArray": {
           "0": 81.235,
           "1": 80.204,
           "bdata": "16NwPQpPVECTGARWDg1UQA==",
           "dtype": "f8",
           "shape": "2"
          },
          "bdata": "16NwPQpPVECTGARWDg1UQA==",
          "dtype": "f8"
         },
         "xaxis": "x",
         "y": {
          "_inputArray": {
           "0": 34435.367439999995,
           "1": 25185.00911,
           "bdata": "54cRwmvQ4EAEHEKVQJjYQA==",
           "dtype": "f8",
           "shape": "2"
          },
          "bdata": "54cRwmvQ4EAEHEKVQJjYQA==",
          "dtype": "f8"
         },
         "yaxis": "y"
        }
       ],
       "layout": {
        "autosize": true,
        "legend": {
         "itemsizing": "constant",
         "title": {
          "text": "continent"
         },
         "tracegroupgap": 0
        },
        "margin": {
         "t": 60
        },
        "template": {
         "data": {
          "bar": [
           {
            "error_x": {
             "color": "#2a3f5f"
            },
            "error_y": {
             "color": "#2a3f5f"
            },
            "marker": {
             "line": {
              "color": "#E5ECF6",
              "width": 0.5
             },
             "pattern": {
              "fillmode": "overlay",
              "size": 10,
              "solidity": 0.2
             }
            },
            "type": "bar"
           }
          ],
          "barpolar": [
           {
            "marker": {
             "line": {
              "color": "#E5ECF6",
              "width": 0.5
             },
             "pattern": {
              "fillmode": "overlay",
              "size": 10,
              "solidity": 0.2
             }
            },
            "type": "barpolar"
           }
          ],
          "carpet": [
           {
            "aaxis": {
             "endlinecolor": "#2a3f5f",
             "gridcolor": "white",
             "linecolor": "white",
             "minorgridcolor": "white",
             "startlinecolor": "#2a3f5f"
            },
            "baxis": {
             "endlinecolor": "#2a3f5f",
             "gridcolor": "white",
             "linecolor": "white",
             "minorgridcolor": "white",
             "startlinecolor": "#2a3f5f"
            },
            "type": "carpet"
           }
          ],
          "choropleth": [
           {
            "colorbar": {
             "outlinewidth": 0,
             "ticks": ""
            },
            "type": "choropleth"
           }
          ],
          "contour": [
           {
            "colorbar": {
             "outlinewidth": 0,
             "ticks": ""
            },
            "colorscale": [
             [
              0,
              "#0d0887"
             ],
             [
              0.1111111111111111,
              "#46039f"
             ],
             [
              0.2222222222222222,
              "#7201a8"
             ],
             [
              0.3333333333333333,
              "#9c179e"
             ],
             [
              0.4444444444444444,
              "#bd3786"
             ],
             [
              0.5555555555555556,
              "#d8576b"
             ],
             [
              0.6666666666666666,
              "#ed7953"
             ],
             [
              0.7777777777777778,
              "#fb9f3a"
             ],
             [
              0.8888888888888888,
              "#fdca26"
             ],
             [
              1,
              "#f0f921"
             ]
            ],
            "type": "contour"
           }
          ],
          "contourcarpet": [
           {
            "colorbar": {
             "outlinewidth": 0,
             "ticks": ""
            },
            "type": "contourcarpet"
           }
          ],
          "heatmap": [
           {
            "colorbar": {
             "outlinewidth": 0,
             "ticks": ""
            },
            "colorscale": [
             [
              0,
              "#0d0887"
             ],
             [
              0.1111111111111111,
              "#46039f"
             ],
             [
              0.2222222222222222,
              "#7201a8"
             ],
             [
              0.3333333333333333,
              "#9c179e"
             ],
             [
              0.4444444444444444,
              "#bd3786"
             ],
             [
              0.5555555555555556,
              "#d8576b"
             ],
             [
              0.6666666666666666,
              "#ed7953"
             ],
             [
              0.7777777777777778,
              "#fb9f3a"
             ],
             [
              0.8888888888888888,
              "#fdca26"
             ],
             [
              1,
              "#f0f921"
             ]
            ],
            "type": "heatmap"
           }
          ],
          "histogram": [
           {
            "marker": {
             "pattern": {
              "fillmode": "overlay",
              "size": 10,
              "solidity": 0.2
             }
            },
            "type": "histogram"
           }
          ],
          "histogram2d": [
           {
            "colorbar": {
             "outlinewidth": 0,
             "ticks": ""
            },
            "colorscale": [
             [
              0,
              "#0d0887"
             ],
             [
              0.1111111111111111,
              "#46039f"
             ],
             [
              0.2222222222222222,
              "#7201a8"
             ],
             [
              0.3333333333333333,
              "#9c179e"
             ],
             [
              0.4444444444444444,
              "#bd3786"
             ],
             [
              0.5555555555555556,
              "#d8576b"
             ],
             [
              0.6666666666666666,
              "#ed7953"
             ],
             [
              0.7777777777777778,
              "#fb9f3a"
             ],
             [
              0.8888888888888888,
              "#fdca26"
             ],
             [
              1,
              "#f0f921"
             ]
            ],
            "type": "histogram2d"
           }
          ],
          "histogram2dcontour": [
           {
            "colorbar": {
             "outlinewidth": 0,
             "ticks": ""
            },
            "colorscale": [
             [
              0,
              "#0d0887"
             ],
             [
              0.1111111111111111,
              "#46039f"
             ],
             [
              0.2222222222222222,
              "#7201a8"
             ],
             [
              0.3333333333333333,
              "#9c179e"
             ],
             [
              0.4444444444444444,
              "#bd3786"
             ],
             [
              0.5555555555555556,
              "#d8576b"
             ],
             [
              0.6666666666666666,
              "#ed7953"
             ],
             [
              0.7777777777777778,
              "#fb9f3a"
             ],
             [
              0.8888888888888888,
              "#fdca26"
             ],
             [
              1,
              "#f0f921"
             ]
            ],
            "type": "histogram2dcontour"
           }
          ],
          "mesh3d": [
           {
            "colorbar": {
             "outlinewidth": 0,
             "ticks": ""
            },
            "type": "mesh3d"
           }
          ],
          "parcoords": [
           {
            "line": {
             "colorbar": {
              "outlinewidth": 0,
              "ticks": ""
             }
            },
            "type": "parcoords"
           }
          ],
          "pie": [
           {
            "automargin": true,
            "type": "pie"
           }
          ],
          "scatter": [
           {
            "fillpattern": {
             "fillmode": "overlay",
             "size": 10,
             "solidity": 0.2
            },
            "type": "scatter"
           }
          ],
          "scatter3d": [
           {
            "line": {
             "colorbar": {
              "outlinewidth": 0,
              "ticks": ""
             }
            },
            "marker": {
             "colorbar": {
              "outlinewidth": 0,
              "ticks": ""
             }
            },
            "type": "scatter3d"
           }
          ],
          "scattercarpet": [
           {
            "marker": {
             "colorbar": {
              "outlinewidth": 0,
              "ticks": ""
             }
            },
            "type": "scattercarpet"
           }
          ],
          "scattergeo": [
           {
            "marker": {
             "colorbar": {
              "outlinewidth": 0,
              "ticks": ""
             }
            },
            "type": "scattergeo"
           }
          ],
          "scattergl": [
           {
            "marker": {
             "colorbar": {
              "outlinewidth": 0,
              "ticks": ""
             }
            },
            "type": "scattergl"
           }
          ],
          "scattermap": [
           {
            "marker": {
             "colorbar": {
              "outlinewidth": 0,
              "ticks": ""
             }
            },
            "type": "scattermap"
           }
          ],
          "scattermapbox": [
           {
            "marker": {
             "colorbar": {
              "outlinewidth": 0,
              "ticks": ""
             }
            },
            "type": "scattermapbox"
           }
          ],
          "scatterpolar": [
           {
            "marker": {
             "colorbar": {
              "outlinewidth": 0,
              "ticks": ""
             }
            },
            "type": "scatterpolar"
           }
          ],
          "scatterpolargl": [
           {
            "marker": {
             "colorbar": {
              "outlinewidth": 0,
              "ticks": ""
             }
            },
            "type": "scatterpolargl"
           }
          ],
          "scatterternary": [
           {
            "marker": {
             "colorbar": {
              "outlinewidth": 0,
              "ticks": ""
             }
            },
            "type": "scatterternary"
           }
          ],
          "surface": [
           {
            "colorbar": {
             "outlinewidth": 0,
             "ticks": ""
            },
            "colorscale": [
             [
              0,
              "#0d0887"
             ],
             [
              0.1111111111111111,
              "#46039f"
             ],
             [
              0.2222222222222222,
              "#7201a8"
             ],
             [
              0.3333333333333333,
              "#9c179e"
             ],
             [
              0.4444444444444444,
              "#bd3786"
             ],
             [
              0.5555555555555556,
              "#d8576b"
             ],
             [
              0.6666666666666666,
              "#ed7953"
             ],
             [
              0.7777777777777778,
              "#fb9f3a"
             ],
             [
              0.8888888888888888,
              "#fdca26"
             ],
             [
              1,
              "#f0f921"
             ]
            ],
            "type": "surface"
           }
          ],
          "table": [
           {
            "cells": {
             "fill": {
              "color": "#EBF0F8"
             },
             "line": {
              "color": "white"
             }
            },
            "header": {
             "fill": {
              "color": "#C8D4E3"
             },
             "line": {
              "color": "white"
             }
            },
            "type": "table"
           }
          ]
         },
         "layout": {
          "annotationdefaults": {
           "arrowcolor": "#2a3f5f",
           "arrowhead": 0,
           "arrowwidth": 1
          },
          "autotypenumbers": "strict",
          "coloraxis": {
           "colorbar": {
            "outlinewidth": 0,
            "ticks": ""
           }
          },
          "colorscale": {
           "diverging": [
            [
             0,
             "#8e0152"
            ],
            [
             0.1,
             "#c51b7d"
            ],
            [
             0.2,
             "#de77ae"
            ],
            [
             0.3,
             "#f1b6da"
            ],
            [
             0.4,
             "#fde0ef"
            ],
            [
             0.5,
             "#f7f7f7"
            ],
            [
             0.6,
             "#e6f5d0"
            ],
            [
             0.7,
             "#b8e186"
            ],
            [
             0.8,
             "#7fbc41"
            ],
            [
             0.9,
             "#4d9221"
            ],
            [
             1,
             "#276419"
            ]
           ],
           "sequential": [
            [
             0,
             "#0d0887"
            ],
            [
             0.1111111111111111,
             "#46039f"
            ],
            [
             0.2222222222222222,
             "#7201a8"
            ],
            [
             0.3333333333333333,
             "#9c179e"
            ],
            [
             0.4444444444444444,
             "#bd3786"
            ],
            [
             0.5555555555555556,
             "#d8576b"
            ],
            [
             0.6666666666666666,
             "#ed7953"
            ],
            [
             0.7777777777777778,
             "#fb9f3a"
            ],
            [
             0.8888888888888888,
             "#fdca26"
            ],
            [
             1,
             "#f0f921"
            ]
           ],
           "sequentialminus": [
            [
             0,
             "#0d0887"
            ],
            [
             0.1111111111111111,
             "#46039f"
            ],
            [
             0.2222222222222222,
             "#7201a8"
            ],
            [
             0.3333333333333333,
             "#9c179e"
            ],
            [
             0.4444444444444444,
             "#bd3786"
            ],
            [
             0.5555555555555556,
             "#d8576b"
            ],
            [
             0.6666666666666666,
             "#ed7953"
            ],
            [
             0.7777777777777778,
             "#fb9f3a"
            ],
            [
             0.8888888888888888,
             "#fdca26"
            ],
            [
             1,
             "#f0f921"
            ]
           ]
          },
          "colorway": [
           "#636efa",
           "#EF553B",
           "#00cc96",
           "#ab63fa",
           "#FFA15A",
           "#19d3f3",
           "#FF6692",
           "#B6E880",
           "#FF97FF",
           "#FECB52"
          ],
          "font": {
           "color": "#2a3f5f"
          },
          "geo": {
           "bgcolor": "white",
           "lakecolor": "white",
           "landcolor": "#E5ECF6",
           "showlakes": true,
           "showland": true,
           "subunitcolor": "white"
          },
          "hoverlabel": {
           "align": "left"
          },
          "hovermode": "closest",
          "mapbox": {
           "style": "light"
          },
          "paper_bgcolor": "white",
          "plot_bgcolor": "#E5ECF6",
          "polar": {
           "angularaxis": {
            "gridcolor": "white",
            "linecolor": "white",
            "ticks": ""
           },
           "bgcolor": "#E5ECF6",
           "radialaxis": {
            "gridcolor": "white",
            "linecolor": "white",
            "ticks": ""
           }
          },
          "scene": {
           "xaxis": {
            "backgroundcolor": "#E5ECF6",
            "gridcolor": "white",
            "gridwidth": 2,
            "linecolor": "white",
            "showbackground": true,
            "ticks": "",
            "zerolinecolor": "white"
           },
           "yaxis": {
            "backgroundcolor": "#E5ECF6",
            "gridcolor": "white",
            "gridwidth": 2,
            "linecolor": "white",
            "showbackground": true,
            "ticks": "",
            "zerolinecolor": "white"
           },
           "zaxis": {
            "backgroundcolor": "#E5ECF6",
            "gridcolor": "white",
            "gridwidth": 2,
            "linecolor": "white",
            "showbackground": true,
            "ticks": "",
            "zerolinecolor": "white"
           }
          },
          "shapedefaults": {
           "line": {
            "color": "#2a3f5f"
           }
          },
          "ternary": {
           "aaxis": {
            "gridcolor": "white",
            "linecolor": "white",
            "ticks": ""
           },
           "baxis": {
            "gridcolor": "white",
            "linecolor": "white",
            "ticks": ""
           },
           "bgcolor": "#E5ECF6",
           "caxis": {
            "gridcolor": "white",
            "linecolor": "white",
            "ticks": ""
           }
          },
          "title": {
           "x": 0.05
          },
          "xaxis": {
           "automargin": true,
           "gridcolor": "white",
           "linecolor": "white",
           "ticks": "",
           "title": {
            "standoff": 15
           },
           "zerolinecolor": "white",
           "zerolinewidth": 2
          },
          "yaxis": {
           "automargin": true,
           "gridcolor": "white",
           "linecolor": "white",
           "ticks": "",
           "title": {
            "standoff": 15
           },
           "zerolinecolor": "white",
           "zerolinewidth": 2
          }
         }
        },
        "xaxis": {
         "anchor": "y",
         "autorange": true,
         "domain": [
          0,
          1
         ],
         "range": [
          36.93852062311525,
          85.4368558244779
         ],
         "title": {
          "text": "lifeExp"
         },
         "type": "linear"
        },
        "yaxis": {
         "anchor": "x",
         "autorange": true,
         "domain": [
          0,
          1
         ],
         "range": [
          -4176.937181079893,
          52995.4318346365
         ],
         "title": {
          "text": "gdpPercap"
         },
         "type": "linear"
        }
       }
      },
      "image/png": "[encoded data removed]"
     },
     "metadata": {},
     "output_type": "display_data"
    }
   ],
   "source": [
    "px.scatter(temp_df,x=\"lifeExp\",y=\"gdpPercap\",color='continent',size=\"pop\")"
   ]
  },
  {
   "cell_type": "code",
   "execution_count": 25,
   "id": "591b0729-144d-4209-8187-fec471ca2215",
   "metadata": {},
   "outputs": [
    {
     "data": {
      "application/vnd.plotly.v1+json": {
       "config": {
        "plotlyServerURL": "https://plot.ly"
       },
       "data": [
        {
         "hovertemplate": "<b>%{hovertext}</b><br><br>continent=Asia<br>lifeExp=%{x}<br>gdpPercap=%{y}<br>pop=%{marker.size}<extra></extra>",
         "hovertext": [
          "Afghanistan",
          "Bahrain",
          "Bangladesh",
          "Cambodia",
          "China",
          "Hong Kong, China",
          "India",
          "Indonesia",
          "Iran",
          "Iraq",
          "Israel",
          "Japan",
          "Jordan",
          "Korea, Dem. Rep.",
          "Korea, Rep.",
          "Kuwait",
          "Lebanon",
          "Malaysia",
          "Mongolia",
          "Myanmar",
          "Nepal",
          "Oman",
          "Pakistan",
          "Philippines",
          "Saudi Arabia",
          "Singapore",
          "Sri Lanka",
          "Syria",
          "Taiwan",
          "Thailand",
          "Vietnam",
          "West Bank and Gaza",
          "Yemen, Rep."
         ],
         "legendgroup": "Asia",
         "marker": {
          "color": "#636efa",
          "size": {
           "_inputArray": {
            "0": 31889923,
            "1": 708573,
            "10": 6426679,
            "11": 127467972,
            "12": 6053193,
            "13": 23301725,
            "14": 49044790,
            "15": 2505559,
            "16": 3921278,
            "17": 24821286,
            "18": 2874127,
            "19": 47761980,
            "2": 150448339,
            "20": 28901790,
            "21": 3204897,
            "22": 169270617,
            "23": 91077287,
            "24": 27601038,
            "25": 4553009,
            "26": 20378239,
            "27": 19314747,
            "28": 23174294,
            "29": 65068149,
            "3": 14131858,
            "30": 85262356,
            "31": 4018332,
            "32": 22211743,
            "4": 1318683096,
            "5": 6980412,
            "6": 1110396331,
            "7": 223547000,
            "8": 69453570,
            "9": 27499638,
            "bdata": "A5rmAd3PCgDTqPcIkqLXANiBmU48g2oAq00vQngOUw0CxyMEdpyjATcQYgDEAZkHSV1cAF2OYwE2XewCVzsmAH7VOwAmvnoBD9srADzK2AKeAbkBIecwAFndFgqnum0FjiilATF5RQB/8jYBO7gmAZacYQF13OADFAAVBZxQPQCf7FIB",
            "dtype": "i4",
            "shape": "33"
           },
           "bdata": "A5rmAd3PCgDTqPcIkqLXANiBmU48g2oAq00vQngOUw0CxyMEdpyjATcQYgDEAZkHSV1cAF2OYwE2XewCVzsmAH7VOwAmvnoBD9srADzK2AKeAbkBIecwAFndFgqnum0FjiilATF5RQB/8jYBO7gmAZacYQF13OADFAAVBZxQPQCf7FIB",
           "dtype": "i4"
          },
          "sizemode": "area",
          "sizeref": 366300.86,
          "symbol": "circle"
         },
         "mode": "markers",
         "name": "Asia",
         "orientation": "v",
         "selectedpoints": [
          3,
          9,
          19,
          32
         ],
         "showlegend": true,
         "type": "scatter",
         "x": {
          "_inputArray": {
           "0": 43.828,
           "1": 75.635,
           "10": 80.745,
           "11": 82.603,
           "12": 72.535,
           "13": 67.297,
           "14": 78.623,
           "15": 77.58800000000002,
           "16": 71.993,
           "17": 74.241,
           "18": 66.803,
           "19": 62.069,
           "2": 64.062,
           "20": 63.785,
           "21": 75.64,
           "22": 65.483,
           "23": 71.688,
           "24": 72.777,
           "25": 79.972,
           "26": 72.396,
           "27": 74.143,
           "28": 78.4,
           "29": 70.616,
           "3": 59.723,
           "30": 74.249,
           "31": 73.422,
           "32": 62.698,
           "4": 72.961,
           "5": 82.208,
           "6": 64.69800000000001,
           "7": 70.65,
           "8": 70.964,
           "9": 59.545,
           "bdata": "RIts5/vpRUBxPQrXo+hSQIcW2c73A1BABoGVQ4vcTUAv3SQGgT1SQFpkO99PjVRA6iYxCKwsUECamZmZmalRQARWDi2yvVFA9ihcj8LFTUBI4XoUri9UQDvfT42XplRACtejcD0iUkBeukkMAtNQQB1aZDvfp1NAFIPAyqFlU0BkO99Pjf9RQIGVQ4tsj1JACKwcWmSzUEBGtvP91AhPQBSuR+F65E9AKVyPwvXoUkD0/dR46V5QQHnpJjEI7FFAfT81XroxUkCR7Xw/Nf5TQNNNYhBYGVJA/tR46SaJUkCamZmZmZlTQIGVQ4tsp1FADi2yne+PUkBeukkMAltSQNNNYhBYWU9A",
           "dtype": "f8",
           "shape": "33"
          },
          "bdata": "RIts5/vpRUBxPQrXo+hSQIcW2c73A1BABoGVQ4vcTUAv3SQGgT1SQFpkO99PjVRA6iYxCKwsUECamZmZmalRQARWDi2yvVFA9ihcj8LFTUBI4XoUri9UQDvfT42XplRACtejcD0iUkBeukkMAtNQQB1aZDvfp1NAFIPAyqFlU0BkO99Pjf9RQIGVQ4tsj1JACKwcWmSzUEBGtvP91AhPQBSuR+F65E9AKVyPwvXoUkD0/dR46V5QQHnpJjEI7FFAfT81XroxUkCR7Xw/Nf5TQNNNYhBYGVJA/tR46SaJUkCamZmZmZlTQIGVQ4tsp1FADi2yne+PUkBeukkMAltSQNNNYhBYWU9A",
          "dtype": "f8"
         },
         "xaxis": "x",
         "y": {
          "_inputArray": {
           "0": 974.5803384,
           "1": 29796.04834,
           "10": 25523.2771,
           "11": 31656.06806,
           "12": 4519.461171,
           "13": 1593.06548,
           "14": 23348.139730000006,
           "15": 47306.98978,
           "16": 10461.05868,
           "17": 12451.6558,
           "18": 3095.7722710000007,
           "19": 944,
           "2": 1391.253792,
           "20": 1091.359778,
           "21": 22316.19287,
           "22": 2605.94758,
           "23": 3190.481016,
           "24": 21654.83194,
           "25": 47143.17964,
           "26": 3970.095407,
           "27": 4184.548089,
           "28": 28718.27684,
           "29": 7458.396326999998,
           "3": 1713.778686,
           "30": 2441.576404,
           "31": 3025.349798,
           "32": 2280.769906,
           "4": 4959.114854,
           "5": 39724.97867,
           "6": 2452.210407,
           "7": 3540.651564,
           "8": 11605.71449,
           "9": 4471.061906,
           "bdata": "54R1iKR0jkDGpwAYAxndQPLPDOIDvZVAat/cXx3HmkDRXRJnHV+zQHK/Q1GfZeNAs193umsoo0CA7suZTamrQKmHaHTbqsZAbVUS2Q93sUBuowG80ezYQItUGFsE6t5A3XpND3ansUArajANQ+SYQBMZVvEIzdZASBtHrF8Z50B3hNOCh27EQFwgQfHTUchATsEaZ4svqEAAAAAAAICNQEjfpGlwDZFAmGn7VwzL1UCwrDQp5VukQLWpukf27KhAD0WBPrUl1UCiYpy/5QTnQJ6xL9kwBK9ATIqPT4xYsECOHr+3kQvcQIOvr3VlIr1AkdJsHicTo0BqNLkYs6KnQP2FHjGK0aFA",
           "dtype": "f8",
           "shape": "33"
          },
          "bdata": "54R1iKR0jkDGpwAYAxndQPLPDOIDvZVAat/cXx3HmkDRXRJnHV+zQHK/Q1GfZeNAs193umsoo0CA7suZTamrQKmHaHTbqsZAbVUS2Q93sUBuowG80ezYQItUGFsE6t5A3XpND3ansUArajANQ+SYQBMZVvEIzdZASBtHrF8Z50B3hNOCh27EQFwgQfHTUchATsEaZ4svqEAAAAAAAICNQEjfpGlwDZFAmGn7VwzL1UCwrDQp5VukQLWpukf27KhAD0WBPrUl1UCiYpy/5QTnQJ6xL9kwBK9ATIqPT4xYsECOHr+3kQvcQIOvr3VlIr1AkdJsHicTo0BqNLkYs6KnQP2FHjGK0aFA",
          "dtype": "f8"
         },
         "yaxis": "y"
        },
        {
         "hovertemplate": "<b>%{hovertext}</b><br><br>continent=Europe<br>lifeExp=%{x}<br>gdpPercap=%{y}<br>pop=%{marker.size}<extra></extra>",
         "hovertext": [
          "Albania",
          "Austria",
          "Belgium",
          "Bosnia and Herzegovina",
          "Bulgaria",
          "Croatia",
          "Czech Republic",
          "Denmark",
          "Finland",
          "France",
          "Germany",
          "Greece",
          "Hungary",
          "Iceland",
          "Ireland",
          "Italy",
          "Montenegro",
          "Netherlands",
          "Norway",
          "Poland",
          "Portugal",
          "Romania",
          "Serbia",
          "Slovak Republic",
          "Slovenia",
          "Spain",
          "Sweden",
          "Switzerland",
          "Turkey",
          "United Kingdom"
         ],
         "legendgroup": "Europe",
         "marker": {
          "color": "#EF553B",
          "size": {
           "_inputArray": {
            "0": 3600523,
            "1": 8199783,
            "10": 82400996,
            "11": 10706290,
            "12": 9956108,
            "13": 301931,
            "14": 4109086,
            "15": 58147733,
            "16": 684736,
            "17": 16570613,
            "18": 4627926,
            "19": 38518241,
            "2": 10392226,
            "20": 10642836,
            "21": 22276056,
            "22": 10150265,
            "23": 5447502,
            "24": 2009245,
            "25": 40448191,
            "26": 9031088,
            "27": 7554661,
            "28": 71158647,
            "29": 60776238,
            "3": 4552198,
            "4": 7322858,
            "5": 4493312,
            "6": 10228744,
            "7": 5468120,
            "8": 5238460,
            "9": 61083916,
            "bdata": "i/A2AGcefQCikp4ABnZFAOq8bwAAkEQACBScANhvUwC87k8ADBGkA+RW6QRyXaMADOuXAGubBAAesz4AlUN3A8ByCgD12PwA1p1GAOG9SwKUZaIA2OdTAXnhmgBOH1MAnageAL8waQKwzYkAZUZzAHfLPQQuX58D",
            "dtype": "i4",
            "shape": "30"
           },
           "bdata": "i/A2AGcefQCikp4ABnZFAOq8bwAAkEQACBScANhvUwC87k8ADBGkA+RW6QRyXaMADOuXAGubBAAesz4AlUN3A8ByCgD12PwA1p1GAOG9SwKUZaIA2OdTAXnhmgBOH1MAnageAL8waQKwzYkAZUZzAHfLPQQuX58D",
           "dtype": "i4"
          },
          "sizemode": "area",
          "sizeref": 366300.86,
          "symbol": "circle"
         },
         "mode": "markers",
         "name": "Europe",
         "orientation": "v",
         "selectedpoints": [],
         "showlegend": true,
         "type": "scatter",
         "x": {
          "_inputArray": {
           "0": 76.423,
           "1": 79.829,
           "10": 79.406,
           "11": 79.483,
           "12": 73.33800000000002,
           "13": 81.757,
           "14": 78.885,
           "15": 80.546,
           "16": 74.543,
           "17": 79.762,
           "18": 80.196,
           "19": 75.563,
           "2": 79.441,
           "20": 78.098,
           "21": 72.476,
           "22": 74.002,
           "23": 74.663,
           "24": 77.926,
           "25": 80.941,
           "26": 80.884,
           "27": 81.70100000000002,
           "28": 71.777,
           "29": 79.425,
           "3": 74.852,
           "4": 73.005,
           "5": 75.748,
           "6": 76.486,
           "7": 78.332,
           "8": 79.313,
           "9": 80.657,
           "bdata": "UI2XbhIbU0CTGARWDvVTQE5iEFg53FNASgwCK4e2UkC4HoXrUUBSQB1aZDvf71JAyXa+nxofU0Boke18P5VTQHnpJjEI1FNANV66SQwqVEBEi2zn+9lTQPT91Hjp3lNAFIPAyqFVUkCcxCCwcnBUQHE9CtejuFNAbef7qfEiVECYbhKDwKJSQFTjpZvE8FNABoGVQ4sMVEB56SYxCORSQIPAyqFFhlNAWDm0yHYeUkDjpZvEIIBSQN9PjZduqlJAJQaBlUN7U0BOYhBYOTxUQH9qvHSTOFRAwJ8aL91sVEB9PzVeuvFRQDMzMzMz21NA",
           "dtype": "f8",
           "shape": "30"
          },
          "bdata": "UI2XbhIbU0CTGARWDvVTQE5iEFg53FNASgwCK4e2UkC4HoXrUUBSQB1aZDvf71JAyXa+nxofU0Boke18P5VTQHnpJjEI1FNANV66SQwqVEBEi2zn+9lTQPT91Hjp3lNAFIPAyqFVUkCcxCCwcnBUQHE9CtejuFNAbef7qfEiVECYbhKDwKJSQFTjpZvE8FNABoGVQ4sMVEB56SYxCORSQIPAyqFFhlNAWDm0yHYeUkDjpZvEIIBSQN9PjZduqlJAJQaBlUN7U0BOYhBYOTxUQH9qvHSTOFRAwJ8aL91sVEB9PzVeuvFRQDMzMzMz21NA",
          "dtype": "f8"
         },
         "xaxis": "x",
         "y": {
          "_inputArray": {
           "0": 5937.029525999998,
           "1": 36126.4927,
           "10": 32170.37442,
           "11": 27538.41188,
           "12": 18008.94444,
           "13": 36180.78919,
           "14": 40675.99635,
           "15": 28569.7197,
           "16": 9253.896111,
           "17": 36797.93332,
           "18": 49357.19017,
           "19": 15389.924680000002,
           "2": 33692.60508,
           "20": 20509.64777,
           "21": 10808.47561,
           "22": 9786.534714,
           "23": 18678.31435,
           "24": 25768.25759,
           "25": 28821.0637,
           "26": 33859.74835,
           "27": 37506.41907,
           "28": 8458.276384,
           "29": 33203.26128,
           "3": 7446.298803,
           "4": 10680.79282,
           "5": 14619.222719999998,
           "6": 22833.30851,
           "7": 35278.41874,
           "8": 33207.0844,
           "9": 30470.0167,
           "bdata": "YBQEjwcxt0BYyjLEz6PhQG+70FyTc+BA8nhafkwWvUDPMSB7ZdzEQBTGFoKcjcxAH7qgvlNM1kCxbVFmzTnhQPmgZ7PiNuBAduCcEYHB3UC+TX/2l2rfQHjuPVya5NpAQni0cTyW0UALYwtBmarhQCxlGeJ/3ONAvJaQD27m20BL58Oz8hLCQJbnwd299+FAVmXfFaYZ6ECjC+pb9g7OQFVNEHVpB9RA09nJ4DwcxUBbI4JxRB3DQGB2Tx6UPdJAcsRafBAq2UAwKqkTRCXcQP+ye/J3iOBAGH0FaU1Q4kCSCI1gI4XAQOPfZ1xoNuBA",
           "dtype": "f8",
           "shape": "30"
          },
          "bdata": "YBQEjwcxt0BYyjLEz6PhQG+70FyTc+BA8nhafkwWvUDPMSB7ZdzEQBTGFoKcjcxAH7qgvlNM1kCxbVFmzTnhQPmgZ7PiNuBAduCcEYHB3UC+TX/2l2rfQHjuPVya5NpAQni0cTyW0UALYwtBmarhQCxlGeJ/3ONAvJaQD27m20BL58Oz8hLCQJbnwd299+FAVmXfFaYZ6ECjC+pb9g7OQFVNEHVpB9RA09nJ4DwcxUBbI4JxRB3DQGB2Tx6UPdJAcsRafBAq2UAwKqkTRCXcQP+ye/J3iOBAGH0FaU1Q4kCSCI1gI4XAQOPfZ1xoNuBA",
          "dtype": "f8"
         },
         "yaxis": "y"
        },
        {
         "hovertemplate": "<b>%{hovertext}</b><br><br>continent=Africa<br>lifeExp=%{x}<br>gdpPercap=%{y}<br>pop=%{marker.size}<extra></extra>",
         "hovertext": [
          "Algeria",
          "Angola",
          "Benin",
          "Botswana",
          "Burkina Faso",
          "Burundi",
          "Cameroon",
          "Central African Republic",
          "Chad",
          "Comoros",
          "Congo, Dem. Rep.",
          "Congo, Rep.",
          "Cote d'Ivoire",
          "Djibouti",
          "Egypt",
          "Equatorial Guinea",
          "Eritrea",
          "Ethiopia",
          "Gabon",
          "Gambia",
          "Ghana",
          "Guinea",
          "Guinea-Bissau",
          "Kenya",
          "Lesotho",
          "Liberia",
          "Libya",
          "Madagascar",
          "Malawi",
          "Mali",
          "Mauritania",
          "Mauritius",
          "Morocco",
          "Mozambique",
          "Namibia",
          "Niger",
          "Nigeria",
          "Reunion",
          "Rwanda",
          "Sao Tome and Principe",
          "Senegal",
          "Sierra Leone",
          "Somalia",
          "South Africa",
          "Sudan",
          "Swaziland",
          "Tanzania",
          "Togo",
          "Tunisia",
          "Uganda",
          "Zambia",
          "Zimbabwe"
         ],
         "legendgroup": "Africa",
         "marker": {
          "color": "#00cc96",
          "size": {
           "_inputArray": {
            "0": 33333216,
            "1": 12420476,
            "10": 64606759,
            "11": 3800610,
            "12": 18013409,
            "13": 496374,
            "14": 80264543,
            "15": 551201,
            "16": 4906585,
            "17": 76511887,
            "18": 1454867,
            "19": 1688359,
            "2": 8078314,
            "20": 22873338,
            "21": 9947814,
            "22": 1472041,
            "23": 35610177,
            "24": 2012649,
            "25": 3193942,
            "26": 6036914,
            "27": 19167654,
            "28": 13327079,
            "29": 12031795,
            "3": 1639131,
            "30": 3270065,
            "31": 1250882,
            "32": 33757175,
            "33": 19951656,
            "34": 2055080,
            "35": 12894865,
            "36": 135031164,
            "37": 798094,
            "38": 8860588,
            "39": 199579,
            "4": 14326203,
            "40": 12267493,
            "41": 6144562,
            "42": 9118773,
            "43": 43997828,
            "44": 42292929,
            "45": 1133066,
            "46": 38139640,
            "47": 5701579,
            "48": 10276158,
            "49": 29170398,
            "5": 8390505,
            "50": 11746035,
            "51": 12311143,
            "6": 17696293,
            "7": 4369038,
            "8": 10238807,
            "9": 710960,
            "bdata": "4J/8AXyFvQDqQ3sA2wIZALuZ2gBpB4AAJQYOAY6qQgBXO5wAMNkKACfS2QMi/jkA4dwSAfaSBwBfvcgEIWkIAFneSgCPeo8EEzMWACfDGQD6BF0BpsqXACl2FgBBXh8C6bUeAFa8MACyHVwApnkkAedaywAzl7cAseUxAEIWEwD3FwMCKHAwAahbHwCRwsQAfGkMCI4tDACsM4cAmwsDAOUvuwAywl0ANSSLAIRanwLBVoUCCkoRAPj2RQLL/1YAPs2cAN4avQHzOrMAZ9q7AA==",
            "dtype": "i4",
            "shape": "52"
           },
           "bdata": "4J/8AXyFvQDqQ3sA2wIZALuZ2gBpB4AAJQYOAY6qQgBXO5wAMNkKACfS2QMi/jkA4dwSAfaSBwBfvcgEIWkIAFneSgCPeo8EEzMWACfDGQD6BF0BpsqXACl2FgBBXh8C6bUeAFa8MACyHVwApnkkAedaywAzl7cAseUxAEIWEwD3FwMCKHAwAahbHwCRwsQAfGkMCI4tDACsM4cAmwsDAOUvuwAywl0ANSSLAIRanwLBVoUCCkoRAPj2RQLL/1YAPs2cAN4avQHzOrMAZ9q7AA==",
           "dtype": "i4"
          },
          "sizemode": "area",
          "sizeref": 366300.86,
          "symbol": "circle"
         },
         "mode": "markers",
         "name": "Africa",
         "orientation": "v",
         "selectedpoints": [
          2,
          4,
          11,
          13,
          16,
          17,
          18,
          19,
          20,
          21,
          23,
          27,
          29,
          34,
          35,
          44,
          46,
          47
         ],
         "showlegend": true,
         "type": "scatter",
         "x": {
          "_inputArray": {
           "0": 72.301,
           "1": 42.731,
           "10": 46.462,
           "11": 55.322,
           "12": 48.328,
           "13": 54.791,
           "14": 71.33800000000002,
           "15": 51.57899999999999,
           "16": 58.04,
           "17": 52.947,
           "18": 56.735,
           "19": 59.448,
           "2": 56.728,
           "20": 60.022,
           "21": 56.007,
           "22": 46.38800000000001,
           "23": 54.11,
           "24": 42.592,
           "25": 45.678,
           "26": 73.952,
           "27": 59.44300000000001,
           "28": 48.303,
           "29": 54.467,
           "3": 50.728,
           "30": 64.164,
           "31": 72.801,
           "32": 71.164,
           "33": 42.082,
           "34": 52.90600000000001,
           "35": 56.867,
           "36": 46.859,
           "37": 76.442,
           "38": 46.242,
           "39": 65.528,
           "4": 52.295,
           "40": 63.062,
           "41": 42.56800000000001,
           "42": 48.159,
           "43": 49.339,
           "44": 58.556,
           "45": 39.613,
           "46": 52.517,
           "47": 58.42,
           "48": 73.923,
           "49": 51.542,
           "5": 49.58,
           "50": 42.38399999999999,
           "51": 43.487,
           "6": 50.43,
           "7": 44.74100000000001,
           "8": 50.651,
           "9": 65.152,
           "bdata": "JQaBlUMTUkAhsHJokV1FQHe+nxovXUxAd76fGi9dSUD2KFyPwiVKQArXo3A9ykhA16NwPQo3SUADK4cW2V5GQBfZzvdTU0lAfT81XrpJUEBCYOXQIjtHQPCnxks3qUtARIts5/spSEBoke18P2VLQBSDwMqh1VFAJjEIrBzKSUCF61G4HgVNQPCnxks3eUpArkfhehReTEDTTWIQWLlNQIlBYOXQAk5AN4lBYOUATECNbOf7qTFHQK5H4XoUDktAsp3vp8ZLRUAQWDm0yNZGQLByaJHtfFJAZBBYObS4TUAQWDm0yCZIQLKd76fGO0tA0SLb+X4KUEAlBoGVQzNSQNEi2/l+ylFA0SLb+X4KRUCJFtnO93NKQOXQItv5bkxAy6FFtvNtR0A/NV66SRxTQOXQItv5HkdAbxKDwMphUEAOLbKd74dPQGQQWDm0SEVAMQisHFoUSEAIrBxaZKtIQLpJDAIrR01AWDm0yHbOQ0AZBFYOLUJKQPYoXI/CNU1AUI2XbhJ7UkBMN4lBYMVJQP3UeOkmMUVAdZMYBFa+RUA=",
           "dtype": "f8",
           "shape": "52"
          },
          "bdata": "JQaBlUMTUkAhsHJokV1FQHe+nxovXUxAd76fGi9dSUD2KFyPwiVKQArXo3A9ykhA16NwPQo3SUADK4cW2V5GQBfZzvdTU0lAfT81XrpJUEBCYOXQIjtHQPCnxks3qUtARIts5/spSEBoke18P2VLQBSDwMqh1VFAJjEIrBzKSUCF61G4HgVNQPCnxks3eUpArkfhehReTEDTTWIQWLlNQIlBYOXQAk5AN4lBYOUATECNbOf7qTFHQK5H4XoUDktAsp3vp8ZLRUAQWDm0yNZGQLByaJHtfFJAZBBYObS4TUAQWDm0yCZIQLKd76fGO0tA0SLb+X4KUEAlBoGVQzNSQNEi2/l+ylFA0SLb+X4KRUCJFtnO93NKQOXQItv5bkxAy6FFtvNtR0A/NV66SRxTQOXQItv5HkdAbxKDwMphUEAOLbKd74dPQGQQWDm0SEVAMQisHFoUSEAIrBxaZKtIQLpJDAIrR01AWDm0yHbOQ0AZBFYOLUJKQPYoXI/CNU1AUI2XbhJ7UkBMN4lBYMVJQP3UeOkmMUVAdZMYBFa+RUA=",
          "dtype": "f8"
         },
         "xaxis": "x",
         "y": {
          "_inputArray": {
           "0": 6223.367465,
           "1": 4797.231267,
           "10": 277.5518587,
           "11": 3632.557798,
           "12": 1544.750112,
           "13": 2082.4815670000007,
           "14": 5581.180998,
           "15": 12154.08975,
           "16": 641.3695236000002,
           "17": 690.8055759,
           "18": 13206.48452,
           "19": 752.7497265,
           "2": 1441.284873,
           "20": 1327.60891,
           "21": 942.6542111,
           "22": 579.2317429999998,
           "23": 1463.249282,
           "24": 1569.331442,
           "25": 414.5073415,
           "26": 12057.49928,
           "27": 1044.770126,
           "28": 759.3499101,
           "29": 1042.581557,
           "3": 12569.85177,
           "30": 1803.151496,
           "31": 10956.99112,
           "32": 3820.17523,
           "33": 823.6856205,
           "34": 4811.060429,
           "35": 619.6768923999998,
           "36": 2013.977305,
           "37": 7670.122558,
           "38": 863.0884639000002,
           "39": 1598.435089,
           "4": 1217.032994,
           "40": 1712.472136,
           "41": 862.5407561000002,
           "42": 926.1410683,
           "43": 9269.657808,
           "44": 2602.394995,
           "45": 4513.480643,
           "46": 1107.482182,
           "47": 882.9699437999999,
           "48": 7092.923025,
           "49": 1056.380121,
           "5": 430.0706916,
           "50": 1271.211593,
           "51": 469.70929810000007,
           "6": 2042.09524,
           "7": 706.016537,
           "8": 1704.063724,
           "9": 986.1478792,
           "bdata": "ba0vEl5PuEClaVA0O72yQA5qv7UjhZZA26LMBu2MyEDb2y3JIQSTQKHhg40h4XpAFjWYhmHon0BkkSbeIRCGQOI/3UBBoJpAEj5K2y7RjkA2yMlp1FhxQIwPs5cdYaxAWTFcHQAjmECsJ/OP9kSgQKSK4lUuzbVAaJHtfAu9x0DPCMrI9AqEQJEHx9FxloVAIVnABD7LyUCOc5tw/4WHQNRgGoZvvpRAcXkH0zt1jUCc8BKc2hmCQO3Vx0P/3JZAFRqIZVOFmEB15h4SHuh5QMYzaOi/jMdAMv/omxRTkEBSoKqdzLqHQAqfrYNTSpBA5nXEIZssnEA1KQXdfmbFQI4ev7dZ2K1AvceZJny9iUC7YkZ4D8uyQEgHkEZqXYNA3lSkwuh3n0DdCfZfH/a9QAWrjyy1+IpAZof4h735mEAPnZ5348GaQOgk73dT9IpABbhq6CDxjECGcw0z1BrCQCveyDzKVKRADW5rC3uhsUDhQh7B7U2RQKkf5XHCl4tAZMxdS+y0u0AXfnA+hYGQQEDc1avY3JNA2On2SFlbfUA=",
           "dtype": "f8",
           "shape": "52"
          },
          "bdata": "ba0vEl5PuEClaVA0O72yQA5qv7UjhZZA26LMBu2MyEDb2y3JIQSTQKHhg40h4XpAFjWYhmHon0BkkSbeIRCGQOI/3UBBoJpAEj5K2y7RjkA2yMlp1FhxQIwPs5cdYaxAWTFcHQAjmECsJ/OP9kSgQKSK4lUuzbVAaJHtfAu9x0DPCMrI9AqEQJEHx9FxloVAIVnABD7LyUCOc5tw/4WHQNRgGoZvvpRAcXkH0zt1jUCc8BKc2hmCQO3Vx0P/3JZAFRqIZVOFmEB15h4SHuh5QMYzaOi/jMdAMv/omxRTkEBSoKqdzLqHQAqfrYNTSpBA5nXEIZssnEA1KQXdfmbFQI4ev7dZ2K1AvceZJny9iUC7YkZ4D8uyQEgHkEZqXYNA3lSkwuh3n0DdCfZfH/a9QAWrjyy1+IpAZof4h735mEAPnZ5348GaQOgk73dT9IpABbhq6CDxjECGcw0z1BrCQCveyDzKVKRADW5rC3uhsUDhQh7B7U2RQKkf5XHCl4tAZMxdS+y0u0AXfnA+hYGQQEDc1avY3JNA2On2SFlbfUA=",
          "dtype": "f8"
         },
         "yaxis": "y"
        },
        {
         "hovertemplate": "<b>%{hovertext}</b><br><br>continent=Americas<br>lifeExp=%{x}<br>gdpPercap=%{y}<br>pop=%{marker.size}<extra></extra>",
         "hovertext": [
          "Argentina",
          "Bolivia",
          "Brazil",
          "Canada",
          "Chile",
          "Colombia",
          "Costa Rica",
          "Cuba",
          "Dominican Republic",
          "Ecuador",
          "El Salvador",
          "Guatemala",
          "Haiti",
          "Honduras",
          "Jamaica",
          "Mexico",
          "Nicaragua",
          "Panama",
          "Paraguay",
          "Peru",
          "Puerto Rico",
          "Trinidad and Tobago",
          "United States",
          "Uruguay",
          "Venezuela"
         ],
         "legendgroup": "Americas",
         "marker": {
          "color": "#ab63fa",
          "size": {
           "_inputArray": {
            "0": 40301927,
            "1": 9119152,
            "10": 6939688,
            "11": 12572928,
            "12": 8502814,
            "13": 7483763,
            "14": 2780132,
            "15": 108700891,
            "16": 5675356,
            "17": 3242173,
            "18": 6667147,
            "19": 28674757,
            "2": 190010647,
            "20": 3942491,
            "21": 1056608,
            "22": 301139947,
            "23": 3447496,
            "24": 26084662,
            "3": 33390141,
            "4": 16284741,
            "5": 44227550,
            "6": 4133884,
            "7": 11416987,
            "8": 9319622,
            "9": 13755680,
            "bdata": "Z/VmArAliwAXVVMLPX79AUV8+ADe26IC/BM/AJs1rgDGNI4AIOXRACjkaQAA2b8AHr6BAHMxcgDkayoA26R6BlyZVgC9eDEAi7tlAMWKtQFbKDwAYB8QAOsH8xHImjQANgWOAQ==",
            "dtype": "i4",
            "shape": "25"
           },
           "bdata": "Z/VmArAliwAXVVMLPX79AUV8+ADe26IC/BM/AJs1rgDGNI4AIOXRACjkaQAA2b8AHr6BAHMxcgDkayoA26R6BlyZVgC9eDEAi7tlAMWKtQFbKDwAYB8QAOsH8xHImjQANgWOAQ==",
           "dtype": "i4"
          },
          "sizemode": "area",
          "sizeref": 366300.86,
          "symbol": "circle"
         },
         "mode": "markers",
         "name": "Americas",
         "orientation": "v",
         "selectedpoints": [
          12
         ],
         "showlegend": true,
         "type": "scatter",
         "x": {
          "_inputArray": {
           "0": 75.32,
           "1": 65.554,
           "10": 71.878,
           "11": 70.259,
           "12": 60.916,
           "13": 70.19800000000001,
           "14": 72.567,
           "15": 76.195,
           "16": 72.899,
           "17": 75.53699999999998,
           "18": 71.752,
           "19": 71.421,
           "2": 72.39,
           "20": 78.74600000000002,
           "21": 69.819,
           "22": 78.242,
           "23": 76.384,
           "24": 73.747,
           "3": 80.653,
           "4": 78.553,
           "5": 72.889,
           "6": 78.782,
           "7": 78.273,
           "8": 72.235,
           "9": 74.994,
           "bdata": "FK5H4XrUUkD6fmq8dGNQQClcj8L1GFJAbxKDwMopVEAIrBxaZKNTQDeJQWDlOFJANV66SQyyU0C28/3UeJFTQNejcD0KD1JAVg4tsp2/UkDVeOkmMfhRQH9qvHSTkFFAaJHtfD91TkDqJjEIrIxRQD81XrpJJFJAFK5H4XoMU0Coxks3iTlSQOx8PzVe4lJA46WbxCDwUUBt5/up8dpRQDu0yHa+r1NAI9v5fmp0UUBzaJHtfI9TQH9qvHSTGFNAK4cW2c5vUkA=",
           "dtype": "f8",
           "shape": "25"
          },
          "bdata": "FK5H4XrUUkD6fmq8dGNQQClcj8L1GFJAbxKDwMopVEAIrBxaZKNTQDeJQWDlOFJANV66SQyyU0C28/3UeJFTQNejcD0KD1JAVg4tsp2/UkDVeOkmMfhRQH9qvHSTkFFAaJHtfD91TkDqJjEIrIxRQD81XrpJJFJAFK5H4XoMU0Coxks3iTlSQOx8PzVe4lJA46WbxCDwUUBt5/up8dpRQDu0yHa+r1NAI9v5fmp0UUBzaJHtfI9TQH9qvHSTGFNAK4cW2c5vUkA=",
          "dtype": "f8"
         },
         "xaxis": "x",
         "y": {
          "_inputArray": {
           "0": 12779.37964,
           "1": 3822.137084,
           "10": 5728.353514,
           "11": 5186.050003,
           "12": 1201.637154,
           "13": 3548.3308460000007,
           "14": 7320.8802620000015,
           "15": 11977.57496,
           "16": 2749.320965,
           "17": 9809.185636,
           "18": 4172.838464,
           "19": 7408.905561,
           "2": 9065.800825,
           "20": 19328.70901,
           "21": 18008.50924,
           "22": 42951.65309,
           "23": 10611.46299,
           "24": 11415.80569,
           "3": 36319.23501,
           "4": 13171.63885,
           "5": 7006.580419,
           "6": 9645.06142,
           "7": 8948.102923,
           "8": 6025.3747520000015,
           "9": 6873.262326000001,
           "bdata": "ICQLmLD1yECcwd8vRtytQGkAb4HmtMFAB7Ezhee74UCGONbF0bnJQPruVpaUXrtAqU2c3IfWwkCBs5QsDXrBQB5Av+9fibdA5fbLJ0PZukCuvOR/WmC2QLQh/8wMQrRAECIZcozGkkAInKVkqbirQOu12VjhmLxAQQ5KmMlkx0BSRIZVpHqlQHui68KXKMNA4KKTpdZMsECIf9jS5/C8QKJ6a2At4NJAdF5jlyCW0UDr/xzm9PjkQDCeQUO7ucRAW5TZIOdLxkA=",
           "dtype": "f8",
           "shape": "25"
          },
          "bdata": "ICQLmLD1yECcwd8vRtytQGkAb4HmtMFAB7Ezhee74UCGONbF0bnJQPruVpaUXrtAqU2c3IfWwkCBs5QsDXrBQB5Av+9fibdA5fbLJ0PZukCuvOR/WmC2QLQh/8wMQrRAECIZcozGkkAInKVkqbirQOu12VjhmLxAQQ5KmMlkx0BSRIZVpHqlQHui68KXKMNA4KKTpdZMsECIf9jS5/C8QKJ6a2At4NJAdF5jlyCW0UDr/xzm9PjkQDCeQUO7ucRAW5TZIOdLxkA=",
          "dtype": "f8"
         },
         "yaxis": "y"
        },
        {
         "hovertemplate": "<b>%{hovertext}</b><br><br>continent=Oceania<br>lifeExp=%{x}<br>gdpPercap=%{y}<br>pop=%{marker.size}<extra></extra>",
         "hovertext": [
          "Australia",
          "New Zealand"
         ],
         "legendgroup": "Oceania",
         "marker": {
          "color": "#FFA15A",
          "size": {
           "_inputArray": {
            "0": 20434176,
            "1": 4115771,
            "bdata": "AM03ATvNPgA=",
            "dtype": "i4",
            "shape": "2"
           },
           "bdata": "AM03ATvNPgA=",
           "dtype": "i4"
          },
          "sizemode": "area",
          "sizeref": 366300.86,
          "symbol": "circle"
         },
         "mode": "markers",
         "name": "Oceania",
         "orientation": "v",
         "selectedpoints": [],
         "showlegend": true,
         "type": "scatter",
         "x": {
          "_inputArray": {
           "0": 81.235,
           "1": 80.204,
           "bdata": "16NwPQpPVECTGARWDg1UQA==",
           "dtype": "f8",
           "shape": "2"
          },
          "bdata": "16NwPQpPVECTGARWDg1UQA==",
          "dtype": "f8"
         },
         "xaxis": "x",
         "y": {
          "_inputArray": {
           "0": 34435.367439999995,
           "1": 25185.00911,
           "bdata": "54cRwmvQ4EAEHEKVQJjYQA==",
           "dtype": "f8",
           "shape": "2"
          },
          "bdata": "54cRwmvQ4EAEHEKVQJjYQA==",
          "dtype": "f8"
         },
         "yaxis": "y"
        }
       ],
       "layout": {
        "autosize": true,
        "dragmode": "pan",
        "legend": {
         "itemsizing": "constant",
         "title": {
          "text": "continent"
         },
         "tracegroupgap": 0
        },
        "margin": {
         "t": 60
        },
        "selections": [
         {
          "line": {
           "dash": "dot",
           "width": 1
          },
          "type": "rect",
          "x0": 62.92475600644467,
          "x1": 51.815843047364645,
          "xref": "x",
          "y0": 53692.42012677439,
          "y1": -14432.622051108934,
          "yref": "y"
         }
        ],
        "template": {
         "data": {
          "bar": [
           {
            "error_x": {
             "color": "#2a3f5f"
            },
            "error_y": {
             "color": "#2a3f5f"
            },
            "marker": {
             "line": {
              "color": "#E5ECF6",
              "width": 0.5
             },
             "pattern": {
              "fillmode": "overlay",
              "size": 10,
              "solidity": 0.2
             }
            },
            "type": "bar"
           }
          ],
          "barpolar": [
           {
            "marker": {
             "line": {
              "color": "#E5ECF6",
              "width": 0.5
             },
             "pattern": {
              "fillmode": "overlay",
              "size": 10,
              "solidity": 0.2
             }
            },
            "type": "barpolar"
           }
          ],
          "carpet": [
           {
            "aaxis": {
             "endlinecolor": "#2a3f5f",
             "gridcolor": "white",
             "linecolor": "white",
             "minorgridcolor": "white",
             "startlinecolor": "#2a3f5f"
            },
            "baxis": {
             "endlinecolor": "#2a3f5f",
             "gridcolor": "white",
             "linecolor": "white",
             "minorgridcolor": "white",
             "startlinecolor": "#2a3f5f"
            },
            "type": "carpet"
           }
          ],
          "choropleth": [
           {
            "colorbar": {
             "outlinewidth": 0,
             "ticks": ""
            },
            "type": "choropleth"
           }
          ],
          "contour": [
           {
            "colorbar": {
             "outlinewidth": 0,
             "ticks": ""
            },
            "colorscale": [
             [
              0,
              "#0d0887"
             ],
             [
              0.1111111111111111,
              "#46039f"
             ],
             [
              0.2222222222222222,
              "#7201a8"
             ],
             [
              0.3333333333333333,
              "#9c179e"
             ],
             [
              0.4444444444444444,
              "#bd3786"
             ],
             [
              0.5555555555555556,
              "#d8576b"
             ],
             [
              0.6666666666666666,
              "#ed7953"
             ],
             [
              0.7777777777777778,
              "#fb9f3a"
             ],
             [
              0.8888888888888888,
              "#fdca26"
             ],
             [
              1,
              "#f0f921"
             ]
            ],
            "type": "contour"
           }
          ],
          "contourcarpet": [
           {
            "colorbar": {
             "outlinewidth": 0,
             "ticks": ""
            },
            "type": "contourcarpet"
           }
          ],
          "heatmap": [
           {
            "colorbar": {
             "outlinewidth": 0,
             "ticks": ""
            },
            "colorscale": [
             [
              0,
              "#0d0887"
             ],
             [
              0.1111111111111111,
              "#46039f"
             ],
             [
              0.2222222222222222,
              "#7201a8"
             ],
             [
              0.3333333333333333,
              "#9c179e"
             ],
             [
              0.4444444444444444,
              "#bd3786"
             ],
             [
              0.5555555555555556,
              "#d8576b"
             ],
             [
              0.6666666666666666,
              "#ed7953"
             ],
             [
              0.7777777777777778,
              "#fb9f3a"
             ],
             [
              0.8888888888888888,
              "#fdca26"
             ],
             [
              1,
              "#f0f921"
             ]
            ],
            "type": "heatmap"
           }
          ],
          "histogram": [
           {
            "marker": {
             "pattern": {
              "fillmode": "overlay",
              "size": 10,
              "solidity": 0.2
             }
            },
            "type": "histogram"
           }
          ],
          "histogram2d": [
           {
            "colorbar": {
             "outlinewidth": 0,
             "ticks": ""
            },
            "colorscale": [
             [
              0,
              "#0d0887"
             ],
             [
              0.1111111111111111,
              "#46039f"
             ],
             [
              0.2222222222222222,
              "#7201a8"
             ],
             [
              0.3333333333333333,
              "#9c179e"
             ],
             [
              0.4444444444444444,
              "#bd3786"
             ],
             [
              0.5555555555555556,
              "#d8576b"
             ],
             [
              0.6666666666666666,
              "#ed7953"
             ],
             [
              0.7777777777777778,
              "#fb9f3a"
             ],
             [
              0.8888888888888888,
              "#fdca26"
             ],
             [
              1,
              "#f0f921"
             ]
            ],
            "type": "histogram2d"
           }
          ],
          "histogram2dcontour": [
           {
            "colorbar": {
             "outlinewidth": 0,
             "ticks": ""
            },
            "colorscale": [
             [
              0,
              "#0d0887"
             ],
             [
              0.1111111111111111,
              "#46039f"
             ],
             [
              0.2222222222222222,
              "#7201a8"
             ],
             [
              0.3333333333333333,
              "#9c179e"
             ],
             [
              0.4444444444444444,
              "#bd3786"
             ],
             [
              0.5555555555555556,
              "#d8576b"
             ],
             [
              0.6666666666666666,
              "#ed7953"
             ],
             [
              0.7777777777777778,
              "#fb9f3a"
             ],
             [
              0.8888888888888888,
              "#fdca26"
             ],
             [
              1,
              "#f0f921"
             ]
            ],
            "type": "histogram2dcontour"
           }
          ],
          "mesh3d": [
           {
            "colorbar": {
             "outlinewidth": 0,
             "ticks": ""
            },
            "type": "mesh3d"
           }
          ],
          "parcoords": [
           {
            "line": {
             "colorbar": {
              "outlinewidth": 0,
              "ticks": ""
             }
            },
            "type": "parcoords"
           }
          ],
          "pie": [
           {
            "automargin": true,
            "type": "pie"
           }
          ],
          "scatter": [
           {
            "fillpattern": {
             "fillmode": "overlay",
             "size": 10,
             "solidity": 0.2
            },
            "type": "scatter"
           }
          ],
          "scatter3d": [
           {
            "line": {
             "colorbar": {
              "outlinewidth": 0,
              "ticks": ""
             }
            },
            "marker": {
             "colorbar": {
              "outlinewidth": 0,
              "ticks": ""
             }
            },
            "type": "scatter3d"
           }
          ],
          "scattercarpet": [
           {
            "marker": {
             "colorbar": {
              "outlinewidth": 0,
              "ticks": ""
             }
            },
            "type": "scattercarpet"
           }
          ],
          "scattergeo": [
           {
            "marker": {
             "colorbar": {
              "outlinewidth": 0,
              "ticks": ""
             }
            },
            "type": "scattergeo"
           }
          ],
          "scattergl": [
           {
            "marker": {
             "colorbar": {
              "outlinewidth": 0,
              "ticks": ""
             }
            },
            "type": "scattergl"
           }
          ],
          "scattermap": [
           {
            "marker": {
             "colorbar": {
              "outlinewidth": 0,
              "ticks": ""
             }
            },
            "type": "scattermap"
           }
          ],
          "scattermapbox": [
           {
            "marker": {
             "colorbar": {
              "outlinewidth": 0,
              "ticks": ""
             }
            },
            "type": "scattermapbox"
           }
          ],
          "scatterpolar": [
           {
            "marker": {
             "colorbar": {
              "outlinewidth": 0,
              "ticks": ""
             }
            },
            "type": "scatterpolar"
           }
          ],
          "scatterpolargl": [
           {
            "marker": {
             "colorbar": {
              "outlinewidth": 0,
              "ticks": ""
             }
            },
            "type": "scatterpolargl"
           }
          ],
          "scatterternary": [
           {
            "marker": {
             "colorbar": {
              "outlinewidth": 0,
              "ticks": ""
             }
            },
            "type": "scatterternary"
           }
          ],
          "surface": [
           {
            "colorbar": {
             "outlinewidth": 0,
             "ticks": ""
            },
            "colorscale": [
             [
              0,
              "#0d0887"
             ],
             [
              0.1111111111111111,
              "#46039f"
             ],
             [
              0.2222222222222222,
              "#7201a8"
             ],
             [
              0.3333333333333333,
              "#9c179e"
             ],
             [
              0.4444444444444444,
              "#bd3786"
             ],
             [
              0.5555555555555556,
              "#d8576b"
             ],
             [
              0.6666666666666666,
              "#ed7953"
             ],
             [
              0.7777777777777778,
              "#fb9f3a"
             ],
             [
              0.8888888888888888,
              "#fdca26"
             ],
             [
              1,
              "#f0f921"
             ]
            ],
            "type": "surface"
           }
          ],
          "table": [
           {
            "cells": {
             "fill": {
              "color": "#EBF0F8"
             },
             "line": {
              "color": "white"
             }
            },
            "header": {
             "fill": {
              "color": "#C8D4E3"
             },
             "line": {
              "color": "white"
             }
            },
            "type": "table"
           }
          ]
         },
         "layout": {
          "annotationdefaults": {
           "arrowcolor": "#2a3f5f",
           "arrowhead": 0,
           "arrowwidth": 1
          },
          "autotypenumbers": "strict",
          "coloraxis": {
           "colorbar": {
            "outlinewidth": 0,
            "ticks": ""
           }
          },
          "colorscale": {
           "diverging": [
            [
             0,
             "#8e0152"
            ],
            [
             0.1,
             "#c51b7d"
            ],
            [
             0.2,
             "#de77ae"
            ],
            [
             0.3,
             "#f1b6da"
            ],
            [
             0.4,
             "#fde0ef"
            ],
            [
             0.5,
             "#f7f7f7"
            ],
            [
             0.6,
             "#e6f5d0"
            ],
            [
             0.7,
             "#b8e186"
            ],
            [
             0.8,
             "#7fbc41"
            ],
            [
             0.9,
             "#4d9221"
            ],
            [
             1,
             "#276419"
            ]
           ],
           "sequential": [
            [
             0,
             "#0d0887"
            ],
            [
             0.1111111111111111,
             "#46039f"
            ],
            [
             0.2222222222222222,
             "#7201a8"
            ],
            [
             0.3333333333333333,
             "#9c179e"
            ],
            [
             0.4444444444444444,
             "#bd3786"
            ],
            [
             0.5555555555555556,
             "#d8576b"
            ],
            [
             0.6666666666666666,
             "#ed7953"
            ],
            [
             0.7777777777777778,
             "#fb9f3a"
            ],
            [
             0.8888888888888888,
             "#fdca26"
            ],
            [
             1,
             "#f0f921"
            ]
           ],
           "sequentialminus": [
            [
             0,
             "#0d0887"
            ],
            [
             0.1111111111111111,
             "#46039f"
            ],
            [
             0.2222222222222222,
             "#7201a8"
            ],
            [
             0.3333333333333333,
             "#9c179e"
            ],
            [
             0.4444444444444444,
             "#bd3786"
            ],
            [
             0.5555555555555556,
             "#d8576b"
            ],
            [
             0.6666666666666666,
             "#ed7953"
            ],
            [
             0.7777777777777778,
             "#fb9f3a"
            ],
            [
             0.8888888888888888,
             "#fdca26"
            ],
            [
             1,
             "#f0f921"
            ]
           ]
          },
          "colorway": [
           "#636efa",
           "#EF553B",
           "#00cc96",
           "#ab63fa",
           "#FFA15A",
           "#19d3f3",
           "#FF6692",
           "#B6E880",
           "#FF97FF",
           "#FECB52"
          ],
          "font": {
           "color": "#2a3f5f"
          },
          "geo": {
           "bgcolor": "white",
           "lakecolor": "white",
           "landcolor": "#E5ECF6",
           "showlakes": true,
           "showland": true,
           "subunitcolor": "white"
          },
          "hoverlabel": {
           "align": "left"
          },
          "hovermode": "closest",
          "mapbox": {
           "style": "light"
          },
          "paper_bgcolor": "white",
          "plot_bgcolor": "#E5ECF6",
          "polar": {
           "angularaxis": {
            "gridcolor": "white",
            "linecolor": "white",
            "ticks": ""
           },
           "bgcolor": "#E5ECF6",
           "radialaxis": {
            "gridcolor": "white",
            "linecolor": "white",
            "ticks": ""
           }
          },
          "scene": {
           "xaxis": {
            "backgroundcolor": "#E5ECF6",
            "gridcolor": "white",
            "gridwidth": 2,
            "linecolor": "white",
            "showbackground": true,
            "ticks": "",
            "zerolinecolor": "white"
           },
           "yaxis": {
            "backgroundcolor": "#E5ECF6",
            "gridcolor": "white",
            "gridwidth": 2,
            "linecolor": "white",
            "showbackground": true,
            "ticks": "",
            "zerolinecolor": "white"
           },
           "zaxis": {
            "backgroundcolor": "#E5ECF6",
            "gridcolor": "white",
            "gridwidth": 2,
            "linecolor": "white",
            "showbackground": true,
            "ticks": "",
            "zerolinecolor": "white"
           }
          },
          "shapedefaults": {
           "line": {
            "color": "#2a3f5f"
           }
          },
          "ternary": {
           "aaxis": {
            "gridcolor": "white",
            "linecolor": "white",
            "ticks": ""
           },
           "baxis": {
            "gridcolor": "white",
            "linecolor": "white",
            "ticks": ""
           },
           "bgcolor": "#E5ECF6",
           "caxis": {
            "gridcolor": "white",
            "linecolor": "white",
            "ticks": ""
           }
          },
          "title": {
           "x": 0.05
          },
          "xaxis": {
           "automargin": true,
           "gridcolor": "white",
           "linecolor": "white",
           "ticks": "",
           "title": {
            "standoff": 15
           },
           "zerolinecolor": "white",
           "zerolinewidth": 2
          },
          "yaxis": {
           "automargin": true,
           "gridcolor": "white",
           "linecolor": "white",
           "ticks": "",
           "title": {
            "standoff": 15
           },
           "zerolinecolor": "white",
           "zerolinewidth": 2
          }
         }
        },
        "xaxis": {
         "anchor": "y",
         "autorange": false,
         "domain": [
          0,
          1
         ],
         "range": [
          25.353735007104554,
          74.79263771812481
         ],
         "showspikes": false,
         "title": {
          "text": "lifeExp"
         },
         "type": "linear"
        },
        "yaxis": {
         "anchor": "x",
         "autorange": false,
         "domain": [
          0,
          1
         ],
         "range": [
          -15980.918464242644,
          52144.123713640685
         ],
         "showspikes": false,
         "title": {
          "text": "gdpPercap"
         },
         "type": "linear"
        }
       }
      },
      "image/png": "[encoded data removed]"
     },
     "metadata": {},
     "output_type": "display_data"
    }
   ],
   "source": [
    "px.scatter(temp_df,x=\"lifeExp\",y=\"gdpPercap\",color='continent',size=\"pop\",size_max=60,hover_name='country')"
   ]
  },
  {
   "cell_type": "code",
   "execution_count": null,
   "id": "8f705161-6cbc-449e-9a99-520b15671939",
   "metadata": {},
   "outputs": [],
   "source": []
  }
 ],
 "metadata": {
  "kernelspec": {
   "display_name": "Python 3 (ipykernel)",
   "language": "python",
   "name": "python3"
  },
  "language_info": {
   "codemirror_mode": {
    "name": "ipython",
    "version": 3
   },
   "file_extension": ".py",
   "mimetype": "text/x-python",
   "name": "python",
   "nbconvert_exporter": "python",
   "pygments_lexer": "ipython3",
   "version": "3.12.6"
  }
 },
 "nbformat": 4,
 "nbformat_minor": 5
}
