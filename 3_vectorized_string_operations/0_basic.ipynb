{
 "cells": [
  {
   "cell_type": "raw",
   "id": "e2c467a8-6e48-413e-8cd5-7f66e87ee4a9",
   "metadata": {},
   "source": [
    "Vectorized string operations in pandas refer to performing string manipulations on entire Series (i.e., columns of text data) at once, rather than using a Python for loop on each element. This is efficient, faster, and uses underlying optimized C code (via NumPy or other backends)."
   ]
  },
  {
   "cell_type": "markdown",
   "id": "2f8fa5bf-0e11-4a2d-ad74-b46f36e10b04",
   "metadata": {},
   "source": [
    "we can use any string method by writting\n",
    "\n",
    "df[\"col name\"].str.functionname(params)"
   ]
  },
  {
   "cell_type": "code",
   "execution_count": 1,
   "id": "e68cf299-613d-43f1-b3e2-75935ed8fd47",
   "metadata": {},
   "outputs": [
    {
     "name": "stdout",
     "output_type": "stream",
     "text": [
      "      name name_lower  starts_with_A name_no_e\n",
      "0    Alice      alice           True      Alic\n",
      "1      Bob        bob          False       Bob\n",
      "2  Charlie    charlie          False    Charli\n",
      "3    David      david          False     David\n"
     ]
    }
   ],
   "source": [
    "import pandas as pd\n",
    "\n",
    "df = pd.DataFrame({\n",
    "    'name': ['Alice', 'Bob', 'Charlie', 'David']\n",
    "})\n",
    "\n",
    "# Convert all names to lowercase\n",
    "df['name_lower'] = df['name'].str.lower()\n",
    "\n",
    "# Check if name starts with 'A'\n",
    "df['starts_with_A'] = df['name'].str.startswith('A')\n",
    "\n",
    "# Replace characters\n",
    "df['name_no_e'] = df['name'].str.replace('e', '')\n",
    "\n",
    "print(df)\n"
   ]
  },
  {
   "cell_type": "code",
   "execution_count": 4,
   "id": "c3842d53-93c3-474e-87af-19e2bcbdba00",
   "metadata": {},
   "outputs": [
    {
     "data": {
      "text/html": [
       "<div>\n",
       "<style scoped>\n",
       "    .dataframe tbody tr th:only-of-type {\n",
       "        vertical-align: middle;\n",
       "    }\n",
       "\n",
       "    .dataframe tbody tr th {\n",
       "        vertical-align: top;\n",
       "    }\n",
       "\n",
       "    .dataframe thead th {\n",
       "        text-align: right;\n",
       "    }\n",
       "</style>\n",
       "<table border=\"1\" class=\"dataframe\">\n",
       "  <thead>\n",
       "    <tr style=\"text-align: right;\">\n",
       "      <th></th>\n",
       "      <th>name</th>\n",
       "      <th>name_lower</th>\n",
       "      <th>starts_with_A</th>\n",
       "      <th>name_no_e</th>\n",
       "    </tr>\n",
       "  </thead>\n",
       "  <tbody>\n",
       "    <tr>\n",
       "      <th>2</th>\n",
       "      <td>Charlie</td>\n",
       "      <td>charlie</td>\n",
       "      <td>False</td>\n",
       "      <td>Charli</td>\n",
       "    </tr>\n",
       "    <tr>\n",
       "      <th>3</th>\n",
       "      <td>David</td>\n",
       "      <td>david</td>\n",
       "      <td>False</td>\n",
       "      <td>David</td>\n",
       "    </tr>\n",
       "  </tbody>\n",
       "</table>\n",
       "</div>"
      ],
      "text/plain": [
       "      name name_lower  starts_with_A name_no_e\n",
       "2  Charlie    charlie          False    Charli\n",
       "3    David      david          False     David"
      ]
     },
     "execution_count": 4,
     "metadata": {},
     "output_type": "execute_result"
    }
   ],
   "source": [
    "df[df['name'].str.contains(\"a\")]"
   ]
  },
  {
   "cell_type": "code",
   "execution_count": null,
   "id": "3ed7f960-4513-4ce1-8148-0595f5f3b328",
   "metadata": {},
   "outputs": [],
   "source": []
  }
 ],
 "metadata": {
  "kernelspec": {
   "display_name": "Python 3 (ipykernel)",
   "language": "python",
   "name": "python3"
  },
  "language_info": {
   "codemirror_mode": {
    "name": "ipython",
    "version": 3
   },
   "file_extension": ".py",
   "mimetype": "text/x-python",
   "name": "python",
   "nbconvert_exporter": "python",
   "pygments_lexer": "ipython3",
   "version": "3.12.6"
  }
 },
 "nbformat": 4,
 "nbformat_minor": 5
}
